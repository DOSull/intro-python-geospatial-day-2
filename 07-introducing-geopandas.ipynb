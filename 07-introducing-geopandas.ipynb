{
 "cells": [
  {
   "cell_type": "code",
   "execution_count": null,
   "id": "c24b9e7c",
   "metadata": {},
   "outputs": [],
   "source": [
    "import pandas as pd\n",
    "import geopandas as gpd"
   ]
  },
  {
   "cell_type": "markdown",
   "id": "64e00722",
   "metadata": {},
   "source": [
    "# `geopandas == pandas + geometry`"
   ]
  },
  {
   "cell_type": "code",
   "execution_count": null,
   "id": "dcc708bb",
   "metadata": {},
   "outputs": [],
   "source": [
    "sa1_data = pd.read_csv(\"sa1-wellington.csv\")\n",
    "sa1_data"
   ]
  },
  {
   "cell_type": "code",
   "execution_count": null,
   "id": "3baf0d6a",
   "metadata": {},
   "outputs": [],
   "source": [
    "sa1_geoms = gpd.read_file(\"sa1-wellington.gpkg\")\n",
    "sa1_geoms"
   ]
  },
  {
   "cell_type": "code",
   "execution_count": null,
   "id": "553fb470",
   "metadata": {},
   "outputs": [],
   "source": [
    "sa1_geoms.plot()"
   ]
  },
  {
   "cell_type": "code",
   "execution_count": null,
   "id": "8266df77",
   "metadata": {
    "tags": [
     "raises-exception"
    ]
   },
   "outputs": [],
   "source": [
    "sa1_geoms.merge(sa1_data)"
   ]
  },
  {
   "cell_type": "markdown",
   "id": "3f7c2627",
   "metadata": {},
   "source": [
    "Oh dear... what went wrong? This is actually pretty commonplace, especially with New Zealand Census data: turns out that one of our tables understands the SA1 ids to be numbers, the other considers them 'objects' (in other words strings)."
   ]
  },
  {
   "cell_type": "code",
   "execution_count": null,
   "id": "ce57916f",
   "metadata": {},
   "outputs": [],
   "source": [
    "sa1_data.SA12018_V1_00.dtype, sa1_geoms.SA12018_V1_00.dtype"
   ]
  },
  {
   "cell_type": "markdown",
   "id": "6f7aacee",
   "metadata": {},
   "source": [
    "To fix this problem we need to convert one of them, so they match."
   ]
  },
  {
   "cell_type": "code",
   "execution_count": null,
   "id": "b4bbbb17",
   "metadata": {},
   "outputs": [],
   "source": [
    "sa1_data.SA12018_V1_00 = sa1_data.SA12018_V1_00.astype(str)"
   ]
  },
  {
   "cell_type": "markdown",
   "id": "e9f60a0e",
   "metadata": {},
   "source": [
    "And now the join operation works fine:"
   ]
  },
  {
   "cell_type": "code",
   "execution_count": null,
   "id": "d9fb6da1",
   "metadata": {},
   "outputs": [],
   "source": [
    "welly_census = sa1_geoms.merge(sa1_data)"
   ]
  },
  {
   "cell_type": "markdown",
   "id": "ecdd74e4",
   "metadata": {},
   "source": [
    "And we can make a map!"
   ]
  },
  {
   "cell_type": "code",
   "execution_count": null,
   "id": "41f73280",
   "metadata": {},
   "outputs": [],
   "source": [
    "ax = welly_census.plot(\n",
    "    column = \"CURPop\", cmap = \"Reds\", k = 9, \n",
    "    ec = \"k\", lw = 0.25, figsize = (8, 8))\n",
    "ax.set_axis_off()"
   ]
  },
  {
   "cell_type": "markdown",
   "id": "d47241f4",
   "metadata": {},
   "source": [
    "## Before we all get too excited\n",
    "Some background on `geopandas`. \n",
    "\n",
    "In essence, `geopandas` simply adds to `pandas` `GeoSeries` and `GeoDataFrame` classes of object. A `GeoSeries` is a `pandas` `Series` that contains geometries, and also knows what coordinate reference system it's in. And a `GeoDataFrame` is a `pandas` `DataFrame` that can contain one (or more) columns that are `GeoSeries`. Usually the geometry column will be called `geometry` or `geom`.\n",
    "\n",
    "Let's take a look at the `GeoSeries` in this dataset."
   ]
  },
  {
   "cell_type": "code",
   "execution_count": null,
   "id": "8973fa79",
   "metadata": {},
   "outputs": [],
   "source": [
    "welly_census.geometry"
   ]
  },
  {
   "cell_type": "markdown",
   "id": "225781d1",
   "metadata": {},
   "source": [
    "OK... that's not hugely informative. What about a single (multi)polygon?"
   ]
  },
  {
   "cell_type": "code",
   "execution_count": null,
   "id": "d5ea12e0",
   "metadata": {},
   "outputs": [],
   "source": [
    "welly_census.geometry[0]"
   ]
  },
  {
   "cell_type": "markdown",
   "id": "a103e4e8",
   "metadata": {},
   "source": [
    "This is the `shapely` module's slightly silly way of showing us a polygon (or any other geometry for that matter). `shapely` is the underlying package on which `geopandas`'s handling of geometry is based. To get a better idea of what's going on we can `print` a geometry."
   ]
  },
  {
   "cell_type": "code",
   "execution_count": null,
   "id": "a3bfe388",
   "metadata": {},
   "outputs": [],
   "source": [
    "print(f\"{welly_census.geometry[0]}\")"
   ]
  },
  {
   "cell_type": "markdown",
   "id": "6a1faf58",
   "metadata": {},
   "source": [
    "If we want to look closer still we can use the [`shapely` API](https://shapely.readthedocs.io/) to interrogate a geomtry further. For example"
   ]
  },
  {
   "cell_type": "code",
   "execution_count": null,
   "id": "91f7a741",
   "metadata": {},
   "outputs": [],
   "source": [
    "[p for p in list(welly_census.geometry[0].geoms)[0].exterior.coords]"
   ]
  },
  {
   "cell_type": "markdown",
   "id": "30409a1a",
   "metadata": {},
   "source": [
    "or"
   ]
  },
  {
   "cell_type": "code",
   "execution_count": null,
   "id": "8031c566",
   "metadata": {},
   "outputs": [],
   "source": [
    "welly_census.geometry[0].area"
   ]
  },
  {
   "cell_type": "markdown",
   "id": "3933059f",
   "metadata": {},
   "source": [
    "or even"
   ]
  },
  {
   "cell_type": "code",
   "execution_count": null,
   "id": "211c8038",
   "metadata": {},
   "outputs": [],
   "source": [
    "welly_census.geometry[0].buffer(100)"
   ]
  },
  {
   "cell_type": "markdown",
   "id": "9068006b",
   "metadata": {},
   "source": [
    "But delving deeply into the details of how geometries are handled in `geopandas` is beyond the scope of these sessions. Suffice to say you can dig into the details of individual geometries, pick them apart, and rebuild them if needed (and if you know what you are doing).\n",
    "\n",
    "It's much more likely you will apply geometric operations to geometries as collections of objects in `GeoDataFrame` form. In that context perhaps of more interest is the handling of coordinate reference systems."
   ]
  },
  {
   "cell_type": "code",
   "execution_count": null,
   "id": "0b5da998",
   "metadata": {},
   "outputs": [],
   "source": [
    "welly_census.crs"
   ]
  },
  {
   "cell_type": "code",
   "execution_count": null,
   "id": "b083b7cb",
   "metadata": {},
   "outputs": [],
   "source": [
    "welly_census.to_crs(3857).crs"
   ]
  },
  {
   "cell_type": "markdown",
   "id": "969bf688",
   "metadata": {},
   "source": [
    "Projecting data into a new coordinate reference system really is that simple!"
   ]
  },
  {
   "cell_type": "markdown",
   "id": "6f43e956",
   "metadata": {},
   "source": [
    "In the next notebook, we'll make some maps."
   ]
  }
 ],
 "metadata": {
  "kernelspec": {
   "display_name": "intro-python-2",
   "language": "python",
   "name": "python3"
  },
  "language_info": {
   "codemirror_mode": {
    "name": "ipython",
    "version": 3
   },
   "file_extension": ".py",
   "mimetype": "text/x-python",
   "name": "python",
   "nbconvert_exporter": "python",
   "pygments_lexer": "ipython3",
   "version": "3.11.6"
  }
 },
 "nbformat": 4,
 "nbformat_minor": 5
}
