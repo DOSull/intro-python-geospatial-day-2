{
 "cells": [
  {
   "cell_type": "code",
   "execution_count": null,
   "id": "c24b9e7c",
   "metadata": {},
   "outputs": [],
   "source": [
    "%matplotlib inline\n",
    "import pandas as pd\n",
    "import geopandas as gpd\n",
    "import matplotlib.pyplot as plt\n",
    "\n",
    "sa2 = gpd.read_file(\"data/sa2-wellington.gpkg\")"
   ]
  },
  {
   "cell_type": "markdown",
   "id": "96ee3ef2",
   "metadata": {},
   "source": [
    "# Small multiple maps\n",
    "There are many ways you can do this. The example below uses an approach I've settled on over time."
   ]
  },
  {
   "cell_type": "code",
   "execution_count": null,
   "id": "5bdd52fc",
   "metadata": {},
   "outputs": [],
   "source": [
    "nrows, ncols = 2, 2\n",
    "figure, axes = plt.subplots(figsize = (12, 12), \n",
    "                            nrows = nrows, ncols = ncols, \n",
    "                            layout = \"constrained\")\n",
    "schemes = [\"equalinterval\", \"quantiles\", \"prettybreaks\", \"fisherjenks\"]\n",
    "\n",
    "for i, scheme in enumerate(schemes):\n",
    "    ax = axes[i // ncols, i % ncols]\n",
    "    sa2.plot(ax = ax, column = \"pop_density\", cmap = \"Reds\", \n",
    "             scheme = scheme, k = 7,\n",
    "             ec = \"k\", lw = 0.5, legend = True, \n",
    "             legend_kwds = {\"title\": \"Pop density per sq km\", \n",
    "                            \"loc\": \"upper left\"})\n",
    "    ax.set_axis_off()\n",
    "    ax.set_title(f\"{scheme = }\")\n",
    "plt.show()"
   ]
  },
  {
   "cell_type": "markdown",
   "id": "39cb78b4",
   "metadata": {},
   "source": [
    "Or a different example"
   ]
  },
  {
   "cell_type": "code",
   "execution_count": null,
   "id": "549637c2",
   "metadata": {},
   "outputs": [],
   "source": [
    "sa1 = gpd.read_file(\"data/sa1-wellington.gpkg\")\n",
    "ages = pd.read_csv(\"data/welly-ages-final.csv\")\n",
    "ages.sa1_code = ages.sa1_code.astype(str)\n",
    "sa1_ages = sa1.merge(\n",
    "    ages, left_on = \"SA12023_V1_00\", right_on = \"sa1_code\")\n",
    "age_vars = [n for n in sa1_ages.columns if \"age\" in n]\n",
    "totals = sa1_ages[age_vars].sum(axis = \"columns\")\n",
    "sa1_ages[age_vars] = (sa1_ages[age_vars]\n",
    "                      .div(totals, axis = \"index\")\n",
    "                      .round(3)) * 100\n",
    "sa1_ages.head()\n"
   ]
  },
  {
   "cell_type": "code",
   "execution_count": null,
   "id": "6225b018",
   "metadata": {},
   "outputs": [],
   "source": [
    "nrows, ncols = 5, 4\n",
    "figure, axes = plt.subplots(figsize = (12, 15), \n",
    "                            nrows = nrows, ncols = ncols, \n",
    "                            layout = \"constrained\")\n",
    "for i, var in enumerate(age_vars):\n",
    "    ax = axes[i // ncols, i % ncols]\n",
    "    sa1_ages.plot(ax = ax, column = var, legend = False,\n",
    "                  vmin = 0, vmax = 25, cmap = \"Reds\")\n",
    "    sa2.plot(ax = ax, fc = \"#00000000\", ec = \"k\", lw = 0.3)\n",
    "    ax.set_axis_off()\n",
    "    ax.set_title(f\"{var}\")\n",
    "axes[4, 3].set_axis_off()\n",
    "plt.show()"
   ]
  },
  {
   "cell_type": "markdown",
   "id": "b2647a44",
   "metadata": {},
   "source": [
    "One wrinkle in this method is that if there is only one row or column in your figure then the indexing the axes uses only one value:"
   ]
  },
  {
   "cell_type": "code",
   "execution_count": null,
   "id": "c43e7cfb",
   "metadata": {},
   "outputs": [],
   "source": [
    "nrows, ncols = 1, 4\n",
    "figure, axes = plt.subplots(figsize = (12, 3), \n",
    "                            nrows = nrows, ncols = ncols, \n",
    "                            layout = \"constrained\")\n",
    "schemes = [\"equalinterval\", \"quantiles\", \"prettybreaks\", \"fisherjenks\"]\n",
    "\n",
    "for i, scheme in enumerate(schemes):\n",
    "    ax = axes[i]\n",
    "    sa2.plot(ax = ax, column = \"pop_density\", cmap = \"Reds\", \n",
    "               scheme = scheme, k = 7,\n",
    "               ec = \"k\", lw = 0.5, legend = False)\n",
    "    ax.set_axis_off()\n",
    "plt.show()"
   ]
  }
 ],
 "metadata": {
  "kernelspec": {
   "display_name": "intro-python-2",
   "language": "python",
   "name": "python3"
  },
  "language_info": {
   "codemirror_mode": {
    "name": "ipython",
    "version": 3
   },
   "file_extension": ".py",
   "mimetype": "text/x-python",
   "name": "python",
   "nbconvert_exporter": "python",
   "pygments_lexer": "ipython3",
   "version": "3.11.13"
  }
 },
 "nbformat": 4,
 "nbformat_minor": 5
}
