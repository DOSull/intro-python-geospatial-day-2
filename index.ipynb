{
 "cells": [
  {
   "cell_type": "markdown",
   "id": "7638dc34",
   "metadata": {},
   "source": [
    "# Python training for GIS analysts\n",
    "## Day 2: Data tables and automation\n",
    "### Session 1 Introducing `pandas`\n",
    "| Time   | Topic |\n",
    "| ------:|:----- |\n",
    "| 09:00  | [**Overview**](session-1-introducing-pandas/01-meet-the-pandas.ipynb) |\n",
    "| 09:15  | [**Getting going in `pandas`**](session-1-introducing-pandas/02-navigating-pandas.ipynb) |\n",
    "| &nbsp; | `Series` and `DataFrame`  |\n",
    "| &nbsp; | `.loc`, `.iloc`  |\n",
    "| &nbsp; | Slicing in `pandas` |\n",
    "| 10:00  | [**Cleaning data**](session-1-introducing-pandas/03-cleaning-data.ipynb) |\n",
    "| &nbsp; | Fixing incorrect data |\n",
    "| 10:30  | _BREAK_ |\n",
    "| 10:45  | [**Applying functions**](session-1-introducing-pandas/04-applying-functions.ipynb) |\n",
    "| &nbsp; | Never iterate if you can help it |\n",
    "| 11:30  | _LUNCH_ |\n",
    "\n",
    "### Session 2 More `pandas` AND `geopandas`\n",
    "| Time   | Topic |\n",
    "| ------:|:----- |\n",
    "| 12:30  | **Tabular workflows** |\n",
    "| &nbsp; | left, right, inner, and outer joins |\n",
    "| &nbsp; | The `.groupby` operator |\n",
    "|  1:00  | **`geopandas = pandas + geometry`** |\n",
    "| &nbsp; | `GeoDataFrame` |\n",
    "| &nbsp; | `GeoSeries` |\n",
    "|  1:30  | **Simple maps with `geopandas`** |\n",
    "| &nbsp; | Plotting data |\n",
    "| &nbsp; | Thematic mapping |\n",
    "|  2:00  | **GIS operations**  |\n",
    "| &nbsp; | Unary operations: e.g., `buffer`  |\n",
    "| &nbsp; | Binary operations: overlay and join |\n",
    "|  2:30  | _BREAK_ |\n",
    "\n",
    "### Session 3 Using `pandas` and `geopandas` to get stuff done!\n",
    "| Time   | Topic |\n",
    "| ------:|:----- |\n",
    "|  3:00  | **Making notebooks into scripts** |\n",
    "| &nbsp; | The basics of making a script |\n",
    "| &nbsp; | Command line options |\n",
    "|  3:30  | **More examples**, such as |\n",
    "| &nbsp; | Cleaning up a spatial dataset |\n",
    "| &nbsp; | Counting points in polygons |\n",
    "| &nbsp; | Small multiple maps |\n",
    "| &nbsp; | _Any other topics as suggested by the group_ |\n",
    "| 5:00   | _ENDS_ |\n"
   ]
  }
 ],
 "metadata": {
  "language_info": {
   "name": "python"
  }
 },
 "nbformat": 4,
 "nbformat_minor": 5
}
