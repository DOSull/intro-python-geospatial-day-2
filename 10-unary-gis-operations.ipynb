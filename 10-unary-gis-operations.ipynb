{
 "cells": [
  {
   "cell_type": "code",
   "execution_count": null,
   "id": "c24b9e7c",
   "metadata": {},
   "outputs": [],
   "source": [
    "%matplotlib inline\n",
    "import pandas as pd\n",
    "import geopandas as gpd\n",
    "import matplotlib.pyplot as plt"
   ]
  },
  {
   "cell_type": "markdown",
   "id": "f1df4459",
   "metadata": {},
   "source": [
    "## Load the data"
   ]
  },
  {
   "cell_type": "code",
   "execution_count": null,
   "id": "5d7f5a4b",
   "metadata": {},
   "outputs": [],
   "source": [
    "stops = gpd.read_file(\"data/metlink-stops.gpkg\").to_crs(2193)\n",
    "routes = gpd.read_file(\"data/metlink-routes.gpkg\").to_crs(2193)\n",
    "sa2 = gpd.read_file(\"data/sa2-wellington.gpkg\")"
   ]
  },
  {
   "cell_type": "markdown",
   "id": "64e00722",
   "metadata": {},
   "source": [
    "# Unary GIS operations\n",
    "As a general comment on all spatial operations in `geopandas`, they almost always return a `GeoSeries` _not_ a `GeoDataFrame`. Usually that means you have to do something like\n",
    "\n",
    "```python\n",
    "gdf.geometry = gdf.geometry.<some_function()>\n",
    "```\n",
    "\n",
    "if you want to change the geometry of a dataset. Something like\n",
    "\n",
    "```python\n",
    "gdf = gdf.<some_function>\n",
    "```\n",
    "\n",
    "will most likely change your `GeoDataFrame` into a `GeoSeries` and in the process discard all the data. It's not difficult to remember this, but it can sometimes seems a little bit roundabout. An additional thing to note is that most methods can be applied either to `GeoDataFrame` or to `GeoSeries` objects, so these two lines will have the same effect:\n",
    "\n",
    "```python\n",
    "gdf.geometry = gdf.geometry.<some_method()>\n",
    "gdf.geometry = gdf.<some_method()>\n",
    "```\n",
    "\n",
    "The important part is that the results are almost always a `GeoSeries` (yes... I'm repeating myself, but it's important!).\n",
    "\n",
    "A side-effect of this is that making a new `GeoDataFrame` is a two step process:\n",
    "\n",
    "```python\n",
    "new_gdf = gdf.copy()\n",
    "new_gdf.geometry = gdf.<some_method()>\n",
    "```\n",
    "\n",
    "## Buffering\n",
    "The buffer operation is straightforward. Key things to remember:\n",
    "- Distances are in the units of the CRS (and only projected coordinate systems make sense for buffering)\n",
    "- Negative distances are OK for polygons, but will cause either errors or things to disappear if set too large\n",
    "- Options include `cap_style`, `join_style`, `mitre_limit`, and `single_sided` are available and [documented here](https://geopandas.org/en/stable/docs/reference/api/geopandas.GeoSeries.buffer.html)"
   ]
  },
  {
   "cell_type": "code",
   "execution_count": null,
   "id": "9ea03dba",
   "metadata": {},
   "outputs": [],
   "source": [
    "stops_buffer = stops.copy()\n",
    "stops_buffer.geometry = stops.buffer(500)\n",
    "m = stops_buffer.explore(style_kwds = {\"color\": \"#ff000010\"}, \n",
    "                         tiles = \"CartoDB.Positron\")\n",
    "stops.explore(m = m, marker_kwds = {\"color\": \"k\"})"
   ]
  },
  {
   "cell_type": "markdown",
   "id": "012c25b5",
   "metadata": {},
   "source": [
    "Buffering a dataset based on some numeric attribute in the data is straightforward. Below I add a new `dist` attribute to the stops and give it a series of random numbers, just to demonstrate things. Of note here is a different way to add a new variable to a table, the `assign()` method, which creates a new table with the added column calculated as indicated."
   ]
  },
  {
   "cell_type": "code",
   "execution_count": null,
   "id": "305fff4a",
   "metadata": {},
   "outputs": [],
   "source": [
    "stops_buffer_2 = stops.assign(dist = range(100, 100 + stops.shape[0]))\n",
    "stops_buffer_2.geometry = stops_buffer_2.geometry.buffer(stops_buffer_2.dist)\n",
    "m = stops_buffer_2.explore(style_kwds = {\"color\": \"#ff000010\"}, \n",
    "                           tiles = \"CartoDB.Positron\")\n",
    "stops.explore(m = m, marker_kwds = {\"color\": \"k\"})"
   ]
  },
  {
   "cell_type": "markdown",
   "id": "548327fc",
   "metadata": {},
   "source": [
    "## Bounding boxes\n",
    "`bounds` gives you the limiting coordinates of each geometry in a `GeoSeries`; `total_bounds` gives you the limiting coordinates of the whole dataset. These can be useful, but perhaps more interesting is `envelope` which gives a bounding rectangle for each geometry in a `GeoSeries`."
   ]
  },
  {
   "cell_type": "code",
   "execution_count": null,
   "id": "72da20e5",
   "metadata": {},
   "outputs": [],
   "source": [
    "routes_bb = routes.copy()\n",
    "routes_bb.geometry = routes.envelope\n",
    "m = routes_bb.explore(style_kwds = {\"color\": \"#ff000020\"}, \n",
    "                      tiles = \"CartoDB.Positron\")\n",
    "routes.explore(m = m, style_kwds = {\"color\": \"black\"})"
   ]
  },
  {
   "cell_type": "markdown",
   "id": "1e9d6028",
   "metadata": {},
   "source": [
    "## Other representative shapes\n",
    "In the same vein as bounding boxes are `minimum_rotated_rectangle()`, `minimum_bounding_circle()`, and `convex_hull`. Note that the first two are methods while the last (like `envelope`) is an attribute."
   ]
  },
  {
   "cell_type": "code",
   "execution_count": null,
   "id": "bf4dc883",
   "metadata": {},
   "outputs": [],
   "source": [
    "routes.minimum_rotated_rectangle().explore(\n",
    "    style_kwds = {\"color\": \"#ff000020\"}, tiles = \"CartoDB.Positron\")"
   ]
  },
  {
   "cell_type": "code",
   "execution_count": null,
   "id": "70118916",
   "metadata": {},
   "outputs": [],
   "source": [
    "routes.minimum_bounding_circle().explore(\n",
    "    style_kwds = {\"color\": \"#ff000020\"}, tiles = \"CartoDB.Positron\")"
   ]
  },
  {
   "cell_type": "code",
   "execution_count": null,
   "id": "86bcf24b",
   "metadata": {},
   "outputs": [],
   "source": [
    "routes.convex_hull.explore(\n",
    "    style_kwds = {\"color\": \"#ff000020\"}, tiles = \"CartoDB.Positron\")"
   ]
  },
  {
   "cell_type": "markdown",
   "id": "49f36059",
   "metadata": {},
   "source": [
    "## Representative points\n",
    "`centroid` and `representative_point()` which we've seen before when labelling a map, are easily determined."
   ]
  },
  {
   "cell_type": "code",
   "execution_count": null,
   "id": "ca8d405d",
   "metadata": {},
   "outputs": [],
   "source": [
    "m = sa2.explore(tooltip = False, tiles = \"CartoDB.Positron\")\n",
    "sa2.centroid.explore(m = m, style_kwds = {\"color\": \"black\"})\n",
    "sa2.representative_point().explore(m = m, style_kwds = {\"color\": \"red\"})"
   ]
  },
  {
   "cell_type": "markdown",
   "id": "275fadf0",
   "metadata": {},
   "source": [
    "## Other spatial operations\n",
    "Worth exploring are\n",
    "- [`boundary`](https://geopandas.org/en/stable/docs/reference/api/geopandas.GeoSeries.boundary.html) which returns the outer boundaries of the input geometries - the exterior of polygons as lines, the end points of lines as points\n",
    "- [`concave_hull()`](https://geopandas.org/en/stable/docs/reference/api/geopandas.GeoSeries.concave_hull.html) is another possible summary shape for complex geometries that is less dramatically simplifying than `convex_hull` (requires geos 3.11)\n",
    "- [`maximum_inscribed_circle()`](https://geopandas.org/en/stable/docs/reference/api/geopandas.GeoSeries.maximum_inscribed_circle.html) returns the largest circles that will fit inside each polygon in a `GeoSeries`\n",
    "- [`segmentize()`](https://geopandas.org/en/stable/docs/reference/api/geopandas.GeoSeries.segmentize.html) adds points along the lines in a geometry to 'densify' them\n",
    "- [`simplify()`](https://geopandas.org/en/stable/docs/reference/api/geopandas.GeoSeries.simplify.html) and [`simplify_coverage()`](https://geopandas.org/en/stable/docs/reference/api/geopandas.GeoSeries.simplify_coverage.html) can be used to reduce the complexity of shapes in a way that is suitable for map generalisation\n",
    "\n",
    "... and many more. Consult [the `GeoSeries` documentation](https://geopandas.org/en/stable/docs/reference/geoseries.html#constructive-methods-and-attributes)!"
   ]
  }
 ],
 "metadata": {
  "kernelspec": {
   "display_name": "intro-python-2",
   "language": "python",
   "name": "python3"
  },
  "language_info": {
   "codemirror_mode": {
    "name": "ipython",
    "version": 3
   },
   "file_extension": ".py",
   "mimetype": "text/x-python",
   "name": "python",
   "nbconvert_exporter": "python",
   "pygments_lexer": "ipython3",
   "version": "3.11.13"
  }
 },
 "nbformat": 4,
 "nbformat_minor": 5
}
