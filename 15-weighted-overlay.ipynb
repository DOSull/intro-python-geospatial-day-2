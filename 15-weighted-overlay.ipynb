{
 "cells": [
  {
   "cell_type": "code",
   "execution_count": null,
   "id": "f5076433",
   "metadata": {},
   "outputs": [],
   "source": [
    "%matplotlib inline\n",
    "import pandas as pd\n",
    "import geopandas as gpd\n",
    "import matplotlib.pyplot as plt"
   ]
  },
  {
   "cell_type": "markdown",
   "id": "48c919ff",
   "metadata": {},
   "source": [
    "# Weighted overlay\n",
    "Here's a recipe for assigning a quantity from one set of polygons to another, based on the areas of overlap."
   ]
  },
  {
   "cell_type": "code",
   "execution_count": null,
   "id": "2270b65e",
   "metadata": {},
   "outputs": [],
   "source": [
    "sa2 = gpd.read_file(\"data/sa2-wellington.gpkg\")\n",
    "school_zones = gpd.read_file(\"data/school-zones.gpkg\")\n",
    "ax = sa2.plot(alpha = 0.5, ec = \"w\", lw = 0.5, figsize = (8, 8))\n",
    "school_zones.plot(ax = ax, fc = \"red\", alpha = 0.5, ec = \"k\", lw = 0.5)"
   ]
  },
  {
   "cell_type": "markdown",
   "id": "afd13715",
   "metadata": {},
   "source": [
    "We need the areas of the SA2 polygons."
   ]
  },
  {
   "cell_type": "code",
   "execution_count": null,
   "id": "3066ab12",
   "metadata": {},
   "outputs": [],
   "source": [
    "sa2[\"sa2_area\"] = sa2.area\n",
    "sa2"
   ]
  },
  {
   "cell_type": "markdown",
   "id": "8b343c09",
   "metadata": {},
   "source": [
    "Next, overlay the school zones and the SA2s, and calculate the areas of the intersections."
   ]
  },
  {
   "cell_type": "code",
   "execution_count": null,
   "id": "90d0dd4d",
   "metadata": {},
   "outputs": [],
   "source": [
    "school_zones_sa2 = school_zones.overlay(sa2)\n",
    "school_zones_sa2[\"area\"] = school_zones_sa2.area\n",
    "\n",
    "region = gpd.GeoSeries([sa2.union_all().union(school_zones.union_all())])"
   ]
  },
  {
   "cell_type": "markdown",
   "id": "a1dff019",
   "metadata": {},
   "source": [
    "Now we can estimate populations of the school zones, make a new dataframe with this information and merge it back into the school zones data. "
   ]
  },
  {
   "cell_type": "code",
   "execution_count": null,
   "id": "0b68f9b8",
   "metadata": {},
   "outputs": [],
   "source": [
    "school_zones_sa2[\"pop\"] = \\\n",
    "    school_zones_sa2.CURPop * school_zones_sa2.area / school_zones_sa2.sa2_area\n",
    "school_zone_pops = school_zones_sa2 \\\n",
    "    .groupby(\"School_ID\", as_index = False) \\\n",
    "    .agg({\"pop\": \"sum\",\n",
    "          \"area\": \"sum\"})\n",
    "school_zones = school_zones.merge(school_zone_pops)\n",
    "school_zones[\"pop_density\"] = school_zones[\"pop\"] / school_zones.area * 1e6"
   ]
  },
  {
   "cell_type": "code",
   "execution_count": null,
   "id": "893f3ef9",
   "metadata": {},
   "outputs": [],
   "source": [
    "ax = region.plot(fc = \"#00000000\", ec = \"k\", figsize = (8, 8))\n",
    "school_zones.plot(ax = ax, column = \"pop_density\", cmap = \"Reds\", alpha = 0.5,\n",
    "                  k = 9, scheme = \"equalinterval\", ec = \"k\", lw = 0.35, \n",
    "                  legend = True, legend_kwds = {\"loc\": \"upper left\"})\n",
    "ax.set_axis_off()\n",
    "plt.show()"
   ]
  }
 ],
 "metadata": {
  "kernelspec": {
   "display_name": "intro-python-2",
   "language": "python",
   "name": "python3"
  },
  "language_info": {
   "codemirror_mode": {
    "name": "ipython",
    "version": 3
   },
   "file_extension": ".py",
   "mimetype": "text/x-python",
   "name": "python",
   "nbconvert_exporter": "python",
   "pygments_lexer": "ipython3",
   "version": "3.11.6"
  }
 },
 "nbformat": 4,
 "nbformat_minor": 5
}
