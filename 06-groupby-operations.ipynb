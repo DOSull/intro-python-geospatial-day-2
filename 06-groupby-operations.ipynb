{
 "cells": [
  {
   "cell_type": "code",
   "execution_count": null,
   "id": "c24b9e7c",
   "metadata": {},
   "outputs": [],
   "source": [
    "import pandas as pd\n",
    "import numpy as np"
   ]
  },
  {
   "cell_type": "markdown",
   "id": "64e00722",
   "metadata": {},
   "source": [
    "# Group based analysis\n",
    "Where the ability to apply both built in and your own functions to data tables is particularly powerful, is when we group data into categories. Geographical data are a good place to apply this because they are often organised hierarchically (meshblocks into SA1s into SA2s and so on). It is worth keeping in mind that if you have labels for the layers in a geographically hierarchy it is almost certainly quicker to aggregate data using those than by spatial joins.\n",
    "\n",
    "To explore this we go back to the source SA1 data for all of New Zealand."
   ]
  },
  {
   "cell_type": "code",
   "execution_count": null,
   "id": "973872f4",
   "metadata": {},
   "outputs": [],
   "source": [
    "# make an SA1 to UR lookup\n",
    "urban_areas = pd.read_csv(\"data/geographic-areas-table-2023.csv\")[\n",
    "    [\"SA12023_code\", \"TA2023_name\"]] \\\n",
    "    .drop_duplicates() \\\n",
    "    .set_index(\"SA12023_code\")\n",
    "\n",
    "# get the data (all 500+ columns), set SA1 as an index, and flag NAs\n",
    "sa1 = pd.read_csv(\n",
    "    \"data/2023_Census_totals_by_topic_for_individuals_by_SA1.csv\") \\\n",
    "        .rename(columns = {\"Statistical area 1 (SA1) 2023 code\": \"sa1_code\"}) \\\n",
    "        .set_index(\"sa1_code\") \\\n",
    "        .replace([-999, -997], pd.NA)\n",
    "\n",
    "# drop non Mainland    \n",
    "sa1 = sa1[sa1[\"Landwater name\"] == \"Mainland\"] \\\n",
    "    .drop(columns = [\"OBJECTID\", \"Landwater code\", \"Landwater name\"])\n",
    "\n",
    "# make the dataframe\n",
    "sa1 = urban_areas.join(sa1, how = \"inner\")\n",
    "sa1.index.name = \"sa1_code\"\n",
    "sa1"
   ]
  },
  {
   "cell_type": "markdown",
   "id": "ca4c97f6",
   "metadata": {},
   "source": [
    "Let's see how many rows are in each territorial authority."
   ]
  },
  {
   "cell_type": "code",
   "execution_count": null,
   "id": "8c990600",
   "metadata": {},
   "outputs": [],
   "source": [
    "sa1.TA2023_name.value_counts()"
   ]
  },
  {
   "cell_type": "markdown",
   "id": "4802229a",
   "metadata": {},
   "source": [
    "Now if we use `groupby` we can apply built in or even our own functions to groups of data."
   ]
  },
  {
   "cell_type": "code",
   "execution_count": null,
   "id": "4435d632",
   "metadata": {},
   "outputs": [],
   "source": [
    "grouped_df = sa1.groupby(\"TA2023_name\")\n",
    "grouped_df.sum()"
   ]
  },
  {
   "cell_type": "markdown",
   "id": "3e1d3e2a",
   "metadata": {},
   "source": [
    "To apply a function to grouped data you use `agg()` in place of `apply()` signifying that the function expects a set of values and will aggregate those values and return a single summary value as its output."
   ]
  },
  {
   "cell_type": "code",
   "execution_count": null,
   "id": "1e2d2958",
   "metadata": {},
   "outputs": [],
   "source": [
    "def unevenness(values):\n",
    "    total = np.sum(values)\n",
    "    if total == 0:\n",
    "        return 0\n",
    "    return np.sum([(x / total) ** 2 for x in values])\n",
    "\n",
    "grouped_df.agg(unevenness)"
   ]
  },
  {
   "cell_type": "markdown",
   "id": "fa64974d",
   "metadata": {},
   "source": [
    "We can even apply functions to the results of applying other functions:"
   ]
  },
  {
   "cell_type": "code",
   "execution_count": null,
   "id": "c68f5d99",
   "metadata": {},
   "outputs": [],
   "source": [
    "display(grouped_df.sum().apply(unevenness, axis = \"columns\"))"
   ]
  },
  {
   "cell_type": "markdown",
   "id": "4ddd2cbd",
   "metadata": {},
   "source": [
    "You can also conveniently iterate over the groups created by `groupby` as a series of tuples containing the value of the selector and the subset of the data in the group."
   ]
  },
  {
   "cell_type": "code",
   "execution_count": null,
   "id": "08b6b870",
   "metadata": {},
   "outputs": [],
   "source": [
    "groups = sa1.groupby(\"TA2023_name\")\n",
    "for name, group in groups:\n",
    "    print(f\"{group.shape[0]:4} SA1s in {name} total population {sum(group.iloc[:, 1])}\")"
   ]
  }
 ],
 "metadata": {
  "kernelspec": {
   "display_name": "intro-python-2",
   "language": "python",
   "name": "python3"
  },
  "language_info": {
   "codemirror_mode": {
    "name": "ipython",
    "version": 3
   },
   "file_extension": ".py",
   "mimetype": "text/x-python",
   "name": "python",
   "nbconvert_exporter": "python",
   "pygments_lexer": "ipython3",
   "version": "3.11.6"
  }
 },
 "nbformat": 4,
 "nbformat_minor": 5
}
