{
 "cells": [
  {
   "cell_type": "code",
   "execution_count": null,
   "id": "c24b9e7c",
   "metadata": {},
   "outputs": [],
   "source": [
    "import pandas as pd\n",
    "import numpy as np"
   ]
  },
  {
   "cell_type": "markdown",
   "id": "3e765af3",
   "metadata": {},
   "source": [
    "# Applying functions in `pandas`\n",
    "We've already seen that `pandas` enables faster computation and therefore processing of data. It is important to take advantage of this whenever possible (and it should pretty much always be possible). In the this notebook we look at how to do that.\n",
    "\n",
    "We'll use the dataset we just cleaned to do that."
   ]
  },
  {
   "cell_type": "code",
   "execution_count": null,
   "id": "ca69d47c",
   "metadata": {},
   "outputs": [],
   "source": [
    "welly_ages = pd.read_csv(\"data/welly-ages-final.csv\", index_col = 0)\n",
    "welly_ages"
   ]
  },
  {
   "cell_type": "markdown",
   "id": "9c1edb01",
   "metadata": {},
   "source": [
    "## Summary functions applied to a `DataFrame`\n",
    "Many standard statistical summary functions are provided as built-in methods by `pandas`. They return the values of the summary statistic for each column in the table as a `Series`."
   ]
  },
  {
   "cell_type": "code",
   "execution_count": null,
   "id": "680b28af",
   "metadata": {},
   "outputs": [],
   "source": [
    "# mean\n",
    "welly_ages.mean()"
   ]
  },
  {
   "cell_type": "code",
   "execution_count": null,
   "id": "6022ab0f",
   "metadata": {},
   "outputs": [],
   "source": [
    "# standard deviation\n",
    "welly_ages.std()"
   ]
  },
  {
   "cell_type": "code",
   "execution_count": null,
   "id": "0adfae6b",
   "metadata": {},
   "outputs": [],
   "source": [
    "# median\n",
    "welly_ages.median()"
   ]
  },
  {
   "cell_type": "code",
   "execution_count": null,
   "id": "91d59731",
   "metadata": {},
   "outputs": [],
   "source": [
    "welly_ages.quantile(q = [i / 10 for i in range(1, 10)])"
   ]
  },
  {
   "cell_type": "markdown",
   "id": "4c9a3045",
   "metadata": {},
   "source": [
    "If you want calculation across rows then specify `axis=\"columns\"`."
   ]
  },
  {
   "cell_type": "code",
   "execution_count": null,
   "id": "d597ce40",
   "metadata": {},
   "outputs": [],
   "source": [
    "welly_ages.mean(axis = \"columns\")"
   ]
  },
  {
   "cell_type": "markdown",
   "id": "a4ff8880",
   "metadata": {},
   "source": [
    "### An overview\n",
    "The `describe()` function provides a helpful overview."
   ]
  },
  {
   "cell_type": "code",
   "execution_count": null,
   "id": "f396bf65",
   "metadata": {},
   "outputs": [],
   "source": [
    "welly_ages.describe()"
   ]
  },
  {
   "cell_type": "markdown",
   "id": "9b207154",
   "metadata": {},
   "source": [
    "There isn't very much more to say than this about the builtin functions. There are many useful functions available, although the way that the `pandas` API documentation is organised makes it a little tricky to find them all in one convenient to consult place. So here's a link to get you where you need to go: https://pandas.pydata.org/pandas-docs/stable/user_guide/basics.html#descriptive-statistics.\n",
    "\n",
    "### But wait... there are also simple graphics\n",
    "Using `matplotlib` or another plotting library to view graphical summaries of data can be very useful and many basic plots are available usually via `<dataframe>.<series>.plot.some_function()`. They won't always be useful&mdash;and for these data most of them are not&mdash;but it's good to know they're there: https://pandas.pydata.org/pandas-docs/stable/user_guide/visualization.html#basic-plotting-plot."
   ]
  },
  {
   "cell_type": "code",
   "execution_count": null,
   "id": "a8b79591",
   "metadata": {},
   "outputs": [],
   "source": [
    "welly_ages.loc[:, \"age_20_24\":\"age_60_64\"] \\\n",
    "    .sum(axis = \"columns\") \\\n",
    "    .plot.box(title = \"Population ages 20-64, by SA1\")"
   ]
  },
  {
   "cell_type": "markdown",
   "id": "7b206ff3",
   "metadata": {},
   "source": [
    "We will spend more time on the graphics options for mapping when we look more closely at `geopandas` a little later.\n",
    "\n",
    "## Applying functions to `DataFrame`\n",
    "You aren't restricted to the built in mathematical and other functions. As an example a simple measure of the unevenness of a set of numbers is the sum of the squared fractions of the total that each value represents. The more unequal a set of numbers, the larger this calculation will be for a set of numbers of a given size. \n",
    "\n",
    "We could calculate this across the rows in our data table (i.e. for each SA1) in a series of steps. Like this:"
   ]
  },
  {
   "cell_type": "code",
   "execution_count": null,
   "id": "771a259b",
   "metadata": {},
   "outputs": [],
   "source": [
    "# get row totals\n",
    "welly_age_totals = welly_ages.sum(axis = \"columns\")\n",
    "# this step is not obvious... it relies on the broadcasting rules\n",
    "# see https://numpy.org/doc/stable/user/basics.broadcasting.html\n",
    "# where the underlying numpy behaviour is explained (it's complicated!)\n",
    "welly_age_fracs = welly_ages.divide(welly_age_totals, axis = \"index\") \n",
    "welly_age_fracs_squared = welly_age_fracs ** 2\n",
    "welly_age_fracs_squared.sum(axis = \"columns\")"
   ]
  },
  {
   "cell_type": "markdown",
   "id": "7f36f615",
   "metadata": {},
   "source": [
    "BUT... I'm not even going to pretend much of the above is obvious. Especially step 2 where we have to know about _broadcasting_ to understand how dividing the whole table by the row totals will behave. I had to look this step up, and I doubt that I will ever be certain what will happen in this situation until I try it. \n",
    "\n",
    "In practice, instead of the above I make make a function to perform the required calculation on a set of values. Here's that function:"
   ]
  },
  {
   "cell_type": "code",
   "execution_count": null,
   "id": "bc02aaab",
   "metadata": {},
   "outputs": [],
   "source": [
    "def unevenness(values):\n",
    "    total = np.sum(values)\n",
    "    if total == 0:\n",
    "        return 0\n",
    "    return np.sum([(x / total) ** 2 for x in values])\n",
    "\n",
    "# and to show it works\n",
    "print(f\"\"\"\n",
    "      {unevenness([20, 20, 20, 20,  20]) = :.3f}\n",
    "      {unevenness([ 7, 14, 21, 28,  35]) = :.3f} \n",
    "      {unevenness([ 5,  5, 20, 30,  40]) = :.3f}\n",
    "      {unevenness([ 2,  2,  2,  2,  92]) = :.3f}\n",
    "      {unevenness([ 0,  0,  0,  0, 100]) = :.3f}\n",
    "      \"\"\")"
   ]
  },
  {
   "cell_type": "markdown",
   "id": "eb6b3c84",
   "metadata": {},
   "source": [
    "The equally split first set of values has the lowest unevenness of these five sets of five numbers, where the last set of values has the highest (all values are 0 except for one).\n",
    "\n",
    "Of note here is that we use `numpy` mathematics functions not base Python `math` functions because they are faster. It probably doesn't matter very much here, but this is a good habit to get into, because when it does matter it will matter a lot!\n",
    "\n",
    "Having written such a function, we can use `apply()` to uh... _appply_ it to rows or columns in a data table. Because my function does not deal with NA values, and the data table still contains NA values we drop those before applying the function."
   ]
  },
  {
   "cell_type": "code",
   "execution_count": null,
   "id": "c4a8c8e6",
   "metadata": {},
   "outputs": [],
   "source": [
    "welly_ages.iloc[:, :-1] \\\n",
    "    .dropna() \\\n",
    "    .apply(unevenness, axis = \"columns\")"
   ]
  },
  {
   "cell_type": "markdown",
   "id": "d0edb0fd",
   "metadata": {},
   "source": [
    "`apply` allows for the usual specification of the `axis` whether (i.e. `axis = \"index\"` or `axis = \"columns\"`), so it's a simple matter to apply this to each column in the data rather than across rows. This is an advantage of this approach over an attempt to perform this calculation as a series of data table processing steps, where you may have to change the `axis` parameter in several steps of the process."
   ]
  },
  {
   "cell_type": "code",
   "execution_count": null,
   "id": "99277dd0",
   "metadata": {},
   "outputs": [],
   "source": [
    "welly_ages \\\n",
    "    .dropna() \\\n",
    "    .apply(unevenness, axis = \"index\")"
   ]
  }
 ],
 "metadata": {
  "kernelspec": {
   "display_name": "intro-python-2",
   "language": "python",
   "name": "python3"
  },
  "language_info": {
   "codemirror_mode": {
    "name": "ipython",
    "version": 3
   },
   "file_extension": ".py",
   "mimetype": "text/x-python",
   "name": "python",
   "nbconvert_exporter": "python",
   "pygments_lexer": "ipython3",
   "version": "3.11.6"
  }
 },
 "nbformat": 4,
 "nbformat_minor": 5
}
