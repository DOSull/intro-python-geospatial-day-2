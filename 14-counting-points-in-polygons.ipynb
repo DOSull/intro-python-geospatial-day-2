{
 "cells": [
  {
   "cell_type": "code",
   "execution_count": null,
   "id": "f5076433",
   "metadata": {},
   "outputs": [],
   "source": [
    "%matplotlib inline\n",
    "import pandas as pd\n",
    "import geopandas as gpd\n",
    "import matplotlib.pyplot as plt"
   ]
  },
  {
   "cell_type": "code",
   "execution_count": null,
   "id": "2270b65e",
   "metadata": {},
   "outputs": [],
   "source": [
    "stops = gpd.read_file(\"data/metlink-stops.gpkg\").to_crs(2193)[\n",
    "    [\"stop_code\", \"stop_name\", \"geometry\"]]\n",
    "routes = gpd.read_file(\"data/metlink-routes.gpkg\").to_crs(2193)[\n",
    "    [\"route_id\", \"route_type\", \"route_short_name\", \"geometry\"]]\n",
    "sa2 = gpd.read_file(\"data/sa2-wellington.gpkg\")"
   ]
  },
  {
   "cell_type": "markdown",
   "id": "48c919ff",
   "metadata": {},
   "source": [
    "# Counting points in polygons\n",
    "Here's a recipe for counting points in polygons, which is something you may want to do fairly often. It is based on the spatial join - groupby - apply approach mentioned in the notebook about binary operations.\n",
    "\n",
    "First join points to the polygons. This will produce an output with as many duplicate rows for each polygon as it contains points, and NA values for polygons that contain no points. "
   ]
  },
  {
   "cell_type": "code",
   "execution_count": null,
   "id": "8a1b1f6d",
   "metadata": {},
   "outputs": [],
   "source": [
    "n_stops = sa2.sjoin(stops, how = \"left\")\n",
    "n_stops"
   ]
  },
  {
   "cell_type": "markdown",
   "id": "6b1cb138",
   "metadata": {},
   "source": [
    "Next select a polygon identifier variable and one other variable and apply `groupby()` on the identifier, followed by the `count()` method. In this case `sa2_code` or `name` will work as the identifier variable."
   ]
  },
  {
   "cell_type": "code",
   "execution_count": null,
   "id": "16ccee47",
   "metadata": {},
   "outputs": [],
   "source": [
    "n_stops = n_stops[[\"name\", \"stop_code\"]] \\\n",
    "    .groupby(\"name\", as_index = False) \\\n",
    "    .count() \\\n",
    "    .rename({\"stop_code\": \"n_stops\"})\n",
    "n_stops"
   ]
  },
  {
   "cell_type": "markdown",
   "id": "79408dc8",
   "metadata": {},
   "source": [
    "Finally, `merge` the result back into the polygon dataset."
   ]
  },
  {
   "cell_type": "code",
   "execution_count": null,
   "id": "34642367",
   "metadata": {},
   "outputs": [],
   "source": [
    "sa2_n_stops = sa2.merge(n_stops)\n",
    "sa2_n_stops"
   ]
  },
  {
   "cell_type": "markdown",
   "id": "97d42cc2",
   "metadata": {},
   "source": [
    "You could do all this in one go."
   ]
  },
  {
   "cell_type": "code",
   "execution_count": null,
   "id": "18fa20ec",
   "metadata": {},
   "outputs": [],
   "source": [
    "sa2.merge(\n",
    "    sa2.sjoin(stops, how = \"left\") \\\n",
    "        .loc[:, [\"name\", \"stop_code\"]] \\\n",
    "        .groupby(\"name\", as_index = False) \\\n",
    "        .count() \\\n",
    "        .rename(columns = {\"stop_code\": \"n_stops\"})\n",
    ")"
   ]
  },
  {
   "cell_type": "markdown",
   "id": "aca59e50",
   "metadata": {},
   "source": [
    "If you are planning on doing a lot of this, then it's probably worth writing a function that can be reused easily. Here's how that might look, complete with documentation."
   ]
  },
  {
   "cell_type": "code",
   "execution_count": null,
   "id": "32bf8827",
   "metadata": {},
   "outputs": [],
   "source": [
    "def count_points_in_polygons(\n",
    "    polys:gpd.GeoDataFrame, \n",
    "    pts:gpd.GeoDataFrame, \n",
    "    id_var:str) -> gpd.GeoDataFrame:\n",
    "    \"\"\"Counts points in polygons and appends new column to GeoDataFrame.\n",
    "\n",
    "    Args:\n",
    "        polys (gpd.GeoDataFrame): the polygons within which to count.\n",
    "        pts (gpd.GeoDataFrame): the points to count.\n",
    "        id_var (str): a variable that uniquely identifies the polygons.\n",
    "\n",
    "    Returns:\n",
    "        gpd.GeoDataFrame: polygon GeoDataFrame with added column 'n_points' \n",
    "            containing result.\n",
    "    \"\"\"\n",
    "    pt_var = pts.columns[0]\n",
    "    return polys.merge(\n",
    "        polys.sjoin(pts, how = \"left\") \\\n",
    "            .loc[:, [id_var, pt_var]] \\\n",
    "            .groupby(id_var, as_index = False) \\\n",
    "            .count() \\\n",
    "            .rename(columns = {pt_var: \"n_points\"}))\n",
    "\n",
    "count_points_in_polygons(sa2, stops, \"name\")"
   ]
  },
  {
   "cell_type": "markdown",
   "id": "8f04f98e",
   "metadata": {},
   "source": [
    "## More advanced ideas\n",
    "It's worth noting that an amended version of this function could be used to count the number of cases of any binary predicate being satisfied between any two datasets.\n",
    "\n",
    "The function below introduces key word function arguments and some other ideas to show how this might be done."
   ]
  },
  {
   "cell_type": "code",
   "execution_count": null,
   "id": "bd3a011f",
   "metadata": {},
   "outputs": [],
   "source": [
    "def count_relations(\n",
    "    gdf1:gpd.GeoDataFrame, \n",
    "    gdf2:gpd.GeoDataFrame, \n",
    "    id_var_1:str,\n",
    "    predicate:str = \"intersects\",\n",
    "    **kwargs) -> gpd.GeoDataFrame:\n",
    "    \"\"\"Counts how many pairs meet specified predicate between two GeoDataFrames.\n",
    "\n",
    "    Args:\n",
    "        gdf1 (gpd.GeoDataFrame): first GeoDataFrame.\n",
    "        gdf2 (gpd.GeoDataFrame): second GeoDataFrame.\n",
    "        id_var (str): variable that uniquely identifies geometries in the \n",
    "            first GeoDataFrame.\n",
    "        predicate (str): the binary predicate (see documentation for sjoin). \n",
    "            Defaults to 'intersects'.\n",
    "        **kwargs: any additional arguments for the predicate function.\n",
    "\n",
    "    Returns:\n",
    "        gpd.GeoDataFrame: first GeoDataFrame with added column 'n_relations'\n",
    "            containing count of numbers of geometries in gdf2 that match the\n",
    "            predicate.\n",
    "    \"\"\"\n",
    "    id_var_2 = gdf2.columns[0]\n",
    "    return gdf1.merge(\n",
    "        gdf1.sjoin(gdf2, how = \"left\", predicate = predicate, **kwargs) \\\n",
    "            .loc[:, [id_var_1, id_var_2]] \\\n",
    "            .groupby(id_var_1, as_index = False) \\\n",
    "            .count() \\\n",
    "            .rename(columns = {id_var_2: \"n_relations\"}))\n",
    "\n",
    "count_relations(\n",
    "    routes, stops, \"route_short_name\", predicate = \"dwithin\", distance = 10)"
   ]
  }
 ],
 "metadata": {
  "kernelspec": {
   "display_name": "intro-python-2",
   "language": "python",
   "name": "python3"
  },
  "language_info": {
   "codemirror_mode": {
    "name": "ipython",
    "version": 3
   },
   "file_extension": ".py",
   "mimetype": "text/x-python",
   "name": "python",
   "nbconvert_exporter": "python",
   "pygments_lexer": "ipython3",
   "version": "3.11.6"
  }
 },
 "nbformat": 4,
 "nbformat_minor": 5
}
