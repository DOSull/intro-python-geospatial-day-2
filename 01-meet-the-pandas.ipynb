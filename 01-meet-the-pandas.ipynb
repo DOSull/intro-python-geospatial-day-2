{
 "cells": [
  {
   "cell_type": "code",
   "execution_count": null,
   "id": "bf01d1e0",
   "metadata": {},
   "outputs": [],
   "source": [
    "import pandas as pd\n",
    "import geopandas as gpd\n",
    "import random"
   ]
  },
  {
   "cell_type": "markdown",
   "id": "3e765af3",
   "metadata": {},
   "source": [
    "# Meet `pandas` and `geopandas`\n",
    "## Introduction\n",
    "First up, the name `pandas`. According to the preliminaries in this [book by its original developer](https://wesmckinney.com/book/),\n",
    "\n",
    "> The pandas name itself is derived from _panel data_, an econometrics term for multidimensional structured datasets, and a play on the phrase _Python data analysis_.\n",
    "\n",
    "Second up, unlike Python, which I find to be elegant and fun to use, I find `pandas` a bit of a chore to deal with. This is partly because my use of it is somewhat intermittent. It's a complicated API, and in many places not very intuitive. That means that its functions and idioms can take a while to really 'stick'. That's been my experience at any rate. I mention this because I think this is quite a common sentiment. However, `pandas` is so central to the Python data analysis world and Python is so central to code development in the GIS world, that whatever reservations we might have about `pandas`, using it is almost unavoidable!\n",
    "\n",
    "I mention these reservations, only to provide fair warning. I expect that much of what we cover today will only really stick for you as you use `pandas` and its close cousin `geopandas` regularly in your everyday work. I'd strongly encourage you to get into the habit of using it so that it becomes, if not second nature, then a bit less of a challenge to use!\n",
    "\n",
    "The other important thing to realise at this moment, is that it's impossible in the space of a few hours to cover all that `pandas` and `geopandas` have to offer because it's a lot! All we can do in these sessions is to introduce some basics and give a sense of the scope of these modules and some of their potential. You will hopefully end up better equipped to know where to look in the voluminous documentation as you develop your skills further after these sessions."
   ]
  },
  {
   "cell_type": "markdown",
   "id": "a9369841",
   "metadata": {},
   "source": [
    "## So why use `pandas`?\n",
    "**First**, because it's everywhere (including in the ESRI suite of tools).\n",
    "\n",
    "**Second**, because while reading data files in vanilla Python is not difficult (as we saw on Day 1), reading them using `pandas` is even easier!"
   ]
  },
  {
   "cell_type": "code",
   "execution_count": null,
   "id": "c427921b",
   "metadata": {},
   "outputs": [],
   "source": [
    "df = pd.read_csv(\"data/wellington-gridded-population.csv\")\n",
    "df.head()"
   ]
  },
  {
   "cell_type": "markdown",
   "id": "f1fb937c",
   "metadata": {},
   "source": [
    "And now we can do operations on whole columns in the data in one _vectorised_ operation. Here's a (nonsensical) example, where we add a new column `z` to the data table by adding together values in `x` and `y`."
   ]
  },
  {
   "cell_type": "code",
   "execution_count": null,
   "id": "471a7a8e",
   "metadata": {},
   "outputs": [],
   "source": [
    "df[\"z\"] = df.x + df.y\n",
    "df.head()"
   ]
  },
  {
   "cell_type": "markdown",
   "id": "3e765af3",
   "metadata": {},
   "source": [
    "**Third**, because `pandas` is completely geared around the manipulation of data as _series_ (the `Series` data type), or as tables (the `DataFrame` data type), and not at the level of individual data points. That' i's how the data we are usually working with are organised, so it makes sense to use a tool intended for working with such data! \n",
    "\n",
    "**Fourth**, following on from this, working with data this way has the potential to be (and usually is) much faster than using 'vanilla' Python. This is easily demonstrated. Make a million random numbers and put them in a list. Then also put them in a `pandas.Series`."
   ]
  },
  {
   "cell_type": "code",
   "execution_count": null,
   "id": "860e58d1",
   "metadata": {},
   "outputs": [],
   "source": [
    "# a million random number in a list\n",
    "numbers = [random.random() for i in range(1_000_000)]\n",
    "# and the same numbers wrapped up in a pandas.Series\n",
    "s_numbers = pd.Series(numbers)"
   ]
  },
  {
   "cell_type": "markdown",
   "id": "262364af",
   "metadata": {},
   "source": [
    "Now time the process of squaring every item in the `list`, using the `%timeit` 'magic'. This runs the code enough times to get a reliable estimate of the execution time. Note that I am using a list comprehension here which is already faster (although not by much) than making a new list and appending to it in a `for` loop."
   ]
  },
  {
   "cell_type": "code",
   "execution_count": null,
   "id": "fd20e0bd",
   "metadata": {},
   "outputs": [],
   "source": [
    "%timeit numbers2 = [x ** 2 for x in numbers] "
   ]
  },
  {
   "cell_type": "markdown",
   "id": "9452b914",
   "metadata": {},
   "source": [
    "Now do the same for the `Series` version, where we simply square the whole series"
   ]
  },
  {
   "cell_type": "code",
   "execution_count": null,
   "id": "07ad206a",
   "metadata": {},
   "outputs": [],
   "source": [
    "%timeit s_numbers2 = s_numbers ** 2"
   ]
  },
  {
   "cell_type": "markdown",
   "id": "ba0a5b05",
   "metadata": {},
   "source": [
    "On my MacMini the `list` operation takes 48.5 milliseconds, while the `Series` operation takes 580 **micro**seconds. In other words, it's getting on for 100 times faster!\n",
    "\n",
    "That kind of difference in performance matters greatly when it comes to handling real world data!\n",
    "\n",
    "The 'magic' here is that `pandas` allows you to avoid explicit loops written in Python. The `for` loops we covered earlier in this course have their place, and you will certainly find uses for them (such as e.g. iterating over all the files in a folder), but pure Python loops run by the interpreter are slow in comparison to the loops implemented in compiled C that `pandas` and an important underlying module `numpy` use to run _vectorised_ operations such as the squaring operation above.\n",
    "\n",
    "Most of the time, using `pandas` you can avoid explicit looping over your data, and you _certainly should_."
   ]
  },
  {
   "cell_type": "markdown",
   "id": "d87a220c",
   "metadata": {},
   "source": [
    "## `geopandas`\n",
    "`pandas` provides the basic tabular data piece of the geospatial data puzzle. The other half (geometry, mapping, projection, spatial operations) is provided by `geopandas`.\n",
    "\n",
    "As a quick taster, it's easy to make the CSV dataset into a geospatial data set using `geopandas`. As you might expect `geopandas` can also read and write GIS formatted files and translate between formats, reproject data, and do all the usual GIS-y things."
   ]
  },
  {
   "cell_type": "code",
   "execution_count": null,
   "id": "692a6b56",
   "metadata": {},
   "outputs": [],
   "source": [
    "gdf = gpd.GeoDataFrame(\n",
    "    data = {\"pop\": df.pop_est},\n",
    "    geometry = gpd.points_from_xy(df.x, df.y), \n",
    "    crs = 2193\n",
    ")\n",
    "gdf.plot(column = \"pop\", cmap = \"Reds\", figsize = (8, 10), markersize = 20)"
   ]
  },
  {
   "cell_type": "markdown",
   "id": "192629c2",
   "metadata": {},
   "source": [
    "We can even make a web map very easily."
   ]
  },
  {
   "cell_type": "code",
   "execution_count": null,
   "id": "04143422",
   "metadata": {},
   "outputs": [],
   "source": [
    "gdf.explore(column = \"pop\")"
   ]
  },
  {
   "cell_type": "markdown",
   "id": "ab62e319-ed74-47ec-b7d8-f29b6dbb76c2",
   "metadata": {},
   "source": [
    "So... that's where we're going. It may just take a little while to get there..."
   ]
  }
 ],
 "metadata": {
  "kernelspec": {
   "display_name": "intro-python-2",
   "language": "python",
   "name": "python3"
  },
  "language_info": {
   "codemirror_mode": {
    "name": "ipython",
    "version": 3
   },
   "file_extension": ".py",
   "mimetype": "text/x-python",
   "name": "python",
   "nbconvert_exporter": "python",
   "pygments_lexer": "ipython3",
   "version": "3.11.6"
  }
 },
 "nbformat": 4,
 "nbformat_minor": 5
}
