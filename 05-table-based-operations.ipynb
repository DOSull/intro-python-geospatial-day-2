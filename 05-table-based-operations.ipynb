{
 "cells": [
  {
   "cell_type": "code",
   "execution_count": 2,
   "id": "c24b9e7c",
   "metadata": {},
   "outputs": [],
   "source": [
    "import pandas as pd\n",
    "import numpy as np"
   ]
  },
  {
   "cell_type": "markdown",
   "id": "3e765af3",
   "metadata": {},
   "source": [
    "# Tabular operations in `pandas`\n",
    "We've already seen a simple _table join_ operation when we used the SA1 codes as an index to select only SA1 data for the Wellington urban area. In this notebook we look at the various ways that tables can be combined in `pandas` a bit more closely.\n",
    "\n",
    "## Joining tables with `merge()`\n",
    "As an example here are data pertaining to airports sourced via https://ourairports.com/data/."
   ]
  },
  {
   "cell_type": "code",
   "execution_count": 39,
   "id": "59604f0c",
   "metadata": {},
   "outputs": [
    {
     "data": {
      "application/vnd.microsoft.datawrangler.viewer.v0+json": {
       "columns": [
        {
         "name": "index",
         "rawType": "int64",
         "type": "integer"
        },
        {
         "name": "name",
         "rawType": "object",
         "type": "string"
        },
        {
         "name": "lat",
         "rawType": "float64",
         "type": "float"
        },
        {
         "name": "lon",
         "rawType": "float64",
         "type": "float"
        },
        {
         "name": "iata_code",
         "rawType": "object",
         "type": "string"
        }
       ],
       "ref": "aaf574d7-4d49-48fa-b877-70103085394f",
       "rows": [
        [
         "50020",
         "Fox Glacier Aerodrome",
         "-43.46111",
         "170.01702",
         "FGL"
        ],
        [
         "50084",
         "Auckland International Airport",
         "-37.01199",
         "174.786331",
         "AKL"
        ],
        [
         "50089",
         "Taupo Airport",
         "-38.73970031738281",
         "176.08399963378906",
         "TUO"
        ],
        [
         "50090",
         "Ardmore Airport",
         "-37.02970123291016",
         "174.97300720214844",
         "AMZ"
        ],
        [
         "50091",
         "Ashburton Airport",
         "-43.903301",
         "171.796997",
         "ASG"
        ],
        [
         "50098",
         "Christchurch International Airport",
         "-43.489029",
         "172.532065",
         "CHC"
        ],
        [
         "50099",
         "Chatham Islands / Tuuta Airport",
         "-43.81189",
         "-176.46514",
         "CHT"
        ],
        [
         "50101",
         "Coromandel Airport",
         "-36.791698",
         "175.509003",
         "CMV"
        ],
        [
         "50102",
         "Dargaville Aerodrome",
         "-35.939701",
         "173.893997",
         "DGR"
        ],
        [
         "50105",
         "Dunedin International Airport",
         "-45.928101",
         "170.197998",
         "DUD"
        ],
        [
         "50115",
         "Franz Josef Aerodrome",
         "-43.36309814453125",
         "170.13400268554688",
         "WHO"
        ],
        [
         "50121",
         "Great Barrier Aerodrome",
         "-36.24140167236328",
         "175.4720001220703",
         "GBZ"
        ],
        [
         "50125",
         "Greymouth Airport",
         "-42.4617",
         "171.190002",
         "GMN"
        ],
        [
         "50127",
         "Gisborne Airport",
         "-38.6633",
         "177.977997",
         "GIS"
        ],
        [
         "50128",
         "Glentanner Airport",
         "-43.906700134277344",
         "170.1280059814453",
         "GTN"
        ],
        [
         "50132",
         "Hokitika Airfield",
         "-42.713600158691406",
         "170.98500061035156",
         "HKK"
        ],
        [
         "50133",
         "Hamilton International Airport",
         "-37.8666992188",
         "175.332000732",
         "HLZ"
        ],
        [
         "50163",
         "Waiheke Island Aerodrome",
         "-36.808899",
         "175.085999",
         "WIK"
        ],
        [
         "50166",
         "Kaikoura Airport",
         "-42.424999",
         "173.604996",
         "KBZ"
        ],
        [
         "50167",
         "Kerikeri Airport",
         "-35.259148",
         "173.913317",
         "KKE"
        ],
        [
         "50170",
         "Kaikohe Airport",
         "-35.451099",
         "173.817001",
         "KKO"
        ],
        [
         "50171",
         "Kaitaia Airport",
         "-35.069837",
         "173.287053",
         "KAT"
        ],
        [
         "50178",
         "Alexandra Aerodrome",
         "-45.210495",
         "169.371113",
         "ALR"
        ],
        [
         "50179",
         "Matamata Glider Airport",
         "-37.734402",
         "175.742004",
         "MTA"
        ],
        [
         "50180",
         "Mechanics Bay Heliport",
         "-36.8465256281",
         "174.787872434",
         "MHB"
        ],
        [
         "50181",
         "Mount Cook Airport",
         "-43.764999",
         "170.132996",
         "MON"
        ],
        [
         "50183",
         "Milford Sound Airport",
         "-44.673302",
         "167.923004",
         "MFN"
        ],
        [
         "50187",
         "Motueka Airport",
         "-41.123299",
         "172.988998",
         "MZP"
        ],
        [
         "50189",
         "Manapouri Airport",
         "-45.5331",
         "167.649994",
         "TEU"
        ],
        [
         "50192",
         "Hood Airport",
         "-40.974634",
         "175.63454",
         "MRO"
        ],
        [
         "50200",
         "New Plymouth Airport",
         "-39.00859832763672",
         "174.1790008544922",
         "NPL"
        ],
        [
         "50201",
         "Hawke's Bay Airport",
         "-39.465801",
         "176.869995",
         "NPE"
        ],
        [
         "50202",
         "Nelson Airport",
         "-41.298302",
         "173.220993",
         "NSN"
        ],
        [
         "50203",
         "Invercargill Airport",
         "-46.41239929199219",
         "168.31300354003906",
         "IVC"
        ],
        [
         "50208",
         "RNZAF Base Ohakea",
         "-40.20600128173828",
         "175.38800048828125",
         "OHA"
        ],
        [
         "50214",
         "Oamaru Airport",
         "-44.970001",
         "171.082001",
         "OAM"
        ],
        [
         "50219",
         "Palmerston North Airport",
         "-40.320599",
         "175.617004",
         "PMR"
        ],
        [
         "50220",
         "Picton Aerodrome",
         "-41.346099853516",
         "173.95599365234",
         "PCN"
        ],
        [
         "50222",
         "Paraparaumu Airport",
         "-40.90470123291016",
         "174.98899841308594",
         "PPQ"
        ],
        [
         "50224",
         "Queenstown International Airport",
         "-45.021099",
         "168.738998",
         "ZQN"
        ],
        [
         "50226",
         "Raglan Aerodrome",
         "-37.804699",
         "174.860001",
         "RAG"
        ],
        [
         "50227",
         "Ryan's Creek Aerodrome",
         "-46.8997",
         "168.100998",
         "SZS"
        ],
        [
         "50231",
         "Rotorua Regional Airport",
         "-38.1092",
         "176.317001",
         "ROT"
        ],
        [
         "50243",
         "Tauranga Airport",
         "-37.67190170288086",
         "176.1959991455078",
         "TRG"
        ],
        [
         "50244",
         "Thames Aerodrome",
         "-37.1567",
         "175.550003",
         "TMZ"
        ],
        [
         "50246",
         "Takaka Airport",
         "-40.813301",
         "172.774994",
         "KTF"
        ],
        [
         "50250",
         "Tokoroa Airfield",
         "-38.236698",
         "175.891998",
         "TKZ"
        ],
        [
         "50252",
         "Taharoa Aerodrome",
         "-38.18109893798828",
         "174.70799255371094",
         "THH"
        ],
        [
         "50254",
         "Timaru Airport",
         "-44.30279922485352",
         "171.22500610351562",
         "TIU"
        ],
        [
         "50258",
         "Pukaki Airport",
         "-44.2350006104",
         "170.117996216",
         "TWZ"
        ]
       ],
       "shape": {
        "columns": 4,
        "rows": 59
       }
      },
      "text/html": [
       "<div>\n",
       "<style scoped>\n",
       "    .dataframe tbody tr th:only-of-type {\n",
       "        vertical-align: middle;\n",
       "    }\n",
       "\n",
       "    .dataframe tbody tr th {\n",
       "        vertical-align: top;\n",
       "    }\n",
       "\n",
       "    .dataframe thead th {\n",
       "        text-align: right;\n",
       "    }\n",
       "</style>\n",
       "<table border=\"1\" class=\"dataframe\">\n",
       "  <thead>\n",
       "    <tr style=\"text-align: right;\">\n",
       "      <th></th>\n",
       "      <th>name</th>\n",
       "      <th>lat</th>\n",
       "      <th>lon</th>\n",
       "      <th>iata_code</th>\n",
       "    </tr>\n",
       "  </thead>\n",
       "  <tbody>\n",
       "    <tr>\n",
       "      <th>50020</th>\n",
       "      <td>Fox Glacier Aerodrome</td>\n",
       "      <td>-43.461110</td>\n",
       "      <td>170.017020</td>\n",
       "      <td>FGL</td>\n",
       "    </tr>\n",
       "    <tr>\n",
       "      <th>50084</th>\n",
       "      <td>Auckland International Airport</td>\n",
       "      <td>-37.011990</td>\n",
       "      <td>174.786331</td>\n",
       "      <td>AKL</td>\n",
       "    </tr>\n",
       "    <tr>\n",
       "      <th>50089</th>\n",
       "      <td>Taupo Airport</td>\n",
       "      <td>-38.739700</td>\n",
       "      <td>176.084000</td>\n",
       "      <td>TUO</td>\n",
       "    </tr>\n",
       "    <tr>\n",
       "      <th>50090</th>\n",
       "      <td>Ardmore Airport</td>\n",
       "      <td>-37.029701</td>\n",
       "      <td>174.973007</td>\n",
       "      <td>AMZ</td>\n",
       "    </tr>\n",
       "    <tr>\n",
       "      <th>50091</th>\n",
       "      <td>Ashburton Airport</td>\n",
       "      <td>-43.903301</td>\n",
       "      <td>171.796997</td>\n",
       "      <td>ASG</td>\n",
       "    </tr>\n",
       "    <tr>\n",
       "      <th>50098</th>\n",
       "      <td>Christchurch International Airport</td>\n",
       "      <td>-43.489029</td>\n",
       "      <td>172.532065</td>\n",
       "      <td>CHC</td>\n",
       "    </tr>\n",
       "    <tr>\n",
       "      <th>50099</th>\n",
       "      <td>Chatham Islands / Tuuta Airport</td>\n",
       "      <td>-43.811890</td>\n",
       "      <td>-176.465140</td>\n",
       "      <td>CHT</td>\n",
       "    </tr>\n",
       "    <tr>\n",
       "      <th>50101</th>\n",
       "      <td>Coromandel Airport</td>\n",
       "      <td>-36.791698</td>\n",
       "      <td>175.509003</td>\n",
       "      <td>CMV</td>\n",
       "    </tr>\n",
       "    <tr>\n",
       "      <th>50102</th>\n",
       "      <td>Dargaville Aerodrome</td>\n",
       "      <td>-35.939701</td>\n",
       "      <td>173.893997</td>\n",
       "      <td>DGR</td>\n",
       "    </tr>\n",
       "    <tr>\n",
       "      <th>50105</th>\n",
       "      <td>Dunedin International Airport</td>\n",
       "      <td>-45.928101</td>\n",
       "      <td>170.197998</td>\n",
       "      <td>DUD</td>\n",
       "    </tr>\n",
       "    <tr>\n",
       "      <th>50115</th>\n",
       "      <td>Franz Josef Aerodrome</td>\n",
       "      <td>-43.363098</td>\n",
       "      <td>170.134003</td>\n",
       "      <td>WHO</td>\n",
       "    </tr>\n",
       "    <tr>\n",
       "      <th>50121</th>\n",
       "      <td>Great Barrier Aerodrome</td>\n",
       "      <td>-36.241402</td>\n",
       "      <td>175.472000</td>\n",
       "      <td>GBZ</td>\n",
       "    </tr>\n",
       "    <tr>\n",
       "      <th>50125</th>\n",
       "      <td>Greymouth Airport</td>\n",
       "      <td>-42.461700</td>\n",
       "      <td>171.190002</td>\n",
       "      <td>GMN</td>\n",
       "    </tr>\n",
       "    <tr>\n",
       "      <th>50127</th>\n",
       "      <td>Gisborne Airport</td>\n",
       "      <td>-38.663300</td>\n",
       "      <td>177.977997</td>\n",
       "      <td>GIS</td>\n",
       "    </tr>\n",
       "    <tr>\n",
       "      <th>50128</th>\n",
       "      <td>Glentanner Airport</td>\n",
       "      <td>-43.906700</td>\n",
       "      <td>170.128006</td>\n",
       "      <td>GTN</td>\n",
       "    </tr>\n",
       "    <tr>\n",
       "      <th>50132</th>\n",
       "      <td>Hokitika Airfield</td>\n",
       "      <td>-42.713600</td>\n",
       "      <td>170.985001</td>\n",
       "      <td>HKK</td>\n",
       "    </tr>\n",
       "    <tr>\n",
       "      <th>50133</th>\n",
       "      <td>Hamilton International Airport</td>\n",
       "      <td>-37.866699</td>\n",
       "      <td>175.332001</td>\n",
       "      <td>HLZ</td>\n",
       "    </tr>\n",
       "    <tr>\n",
       "      <th>50163</th>\n",
       "      <td>Waiheke Island Aerodrome</td>\n",
       "      <td>-36.808899</td>\n",
       "      <td>175.085999</td>\n",
       "      <td>WIK</td>\n",
       "    </tr>\n",
       "    <tr>\n",
       "      <th>50166</th>\n",
       "      <td>Kaikoura Airport</td>\n",
       "      <td>-42.424999</td>\n",
       "      <td>173.604996</td>\n",
       "      <td>KBZ</td>\n",
       "    </tr>\n",
       "    <tr>\n",
       "      <th>50167</th>\n",
       "      <td>Kerikeri Airport</td>\n",
       "      <td>-35.259148</td>\n",
       "      <td>173.913317</td>\n",
       "      <td>KKE</td>\n",
       "    </tr>\n",
       "    <tr>\n",
       "      <th>50170</th>\n",
       "      <td>Kaikohe Airport</td>\n",
       "      <td>-35.451099</td>\n",
       "      <td>173.817001</td>\n",
       "      <td>KKO</td>\n",
       "    </tr>\n",
       "    <tr>\n",
       "      <th>50171</th>\n",
       "      <td>Kaitaia Airport</td>\n",
       "      <td>-35.069837</td>\n",
       "      <td>173.287053</td>\n",
       "      <td>KAT</td>\n",
       "    </tr>\n",
       "    <tr>\n",
       "      <th>50178</th>\n",
       "      <td>Alexandra Aerodrome</td>\n",
       "      <td>-45.210495</td>\n",
       "      <td>169.371113</td>\n",
       "      <td>ALR</td>\n",
       "    </tr>\n",
       "    <tr>\n",
       "      <th>50179</th>\n",
       "      <td>Matamata Glider Airport</td>\n",
       "      <td>-37.734402</td>\n",
       "      <td>175.742004</td>\n",
       "      <td>MTA</td>\n",
       "    </tr>\n",
       "    <tr>\n",
       "      <th>50180</th>\n",
       "      <td>Mechanics Bay Heliport</td>\n",
       "      <td>-36.846526</td>\n",
       "      <td>174.787872</td>\n",
       "      <td>MHB</td>\n",
       "    </tr>\n",
       "    <tr>\n",
       "      <th>50181</th>\n",
       "      <td>Mount Cook Airport</td>\n",
       "      <td>-43.764999</td>\n",
       "      <td>170.132996</td>\n",
       "      <td>MON</td>\n",
       "    </tr>\n",
       "    <tr>\n",
       "      <th>50183</th>\n",
       "      <td>Milford Sound Airport</td>\n",
       "      <td>-44.673302</td>\n",
       "      <td>167.923004</td>\n",
       "      <td>MFN</td>\n",
       "    </tr>\n",
       "    <tr>\n",
       "      <th>50187</th>\n",
       "      <td>Motueka Airport</td>\n",
       "      <td>-41.123299</td>\n",
       "      <td>172.988998</td>\n",
       "      <td>MZP</td>\n",
       "    </tr>\n",
       "    <tr>\n",
       "      <th>50189</th>\n",
       "      <td>Manapouri Airport</td>\n",
       "      <td>-45.533100</td>\n",
       "      <td>167.649994</td>\n",
       "      <td>TEU</td>\n",
       "    </tr>\n",
       "    <tr>\n",
       "      <th>50192</th>\n",
       "      <td>Hood Airport</td>\n",
       "      <td>-40.974634</td>\n",
       "      <td>175.634540</td>\n",
       "      <td>MRO</td>\n",
       "    </tr>\n",
       "    <tr>\n",
       "      <th>50200</th>\n",
       "      <td>New Plymouth Airport</td>\n",
       "      <td>-39.008598</td>\n",
       "      <td>174.179001</td>\n",
       "      <td>NPL</td>\n",
       "    </tr>\n",
       "    <tr>\n",
       "      <th>50201</th>\n",
       "      <td>Hawke's Bay Airport</td>\n",
       "      <td>-39.465801</td>\n",
       "      <td>176.869995</td>\n",
       "      <td>NPE</td>\n",
       "    </tr>\n",
       "    <tr>\n",
       "      <th>50202</th>\n",
       "      <td>Nelson Airport</td>\n",
       "      <td>-41.298302</td>\n",
       "      <td>173.220993</td>\n",
       "      <td>NSN</td>\n",
       "    </tr>\n",
       "    <tr>\n",
       "      <th>50203</th>\n",
       "      <td>Invercargill Airport</td>\n",
       "      <td>-46.412399</td>\n",
       "      <td>168.313004</td>\n",
       "      <td>IVC</td>\n",
       "    </tr>\n",
       "    <tr>\n",
       "      <th>50208</th>\n",
       "      <td>RNZAF Base Ohakea</td>\n",
       "      <td>-40.206001</td>\n",
       "      <td>175.388000</td>\n",
       "      <td>OHA</td>\n",
       "    </tr>\n",
       "    <tr>\n",
       "      <th>50214</th>\n",
       "      <td>Oamaru Airport</td>\n",
       "      <td>-44.970001</td>\n",
       "      <td>171.082001</td>\n",
       "      <td>OAM</td>\n",
       "    </tr>\n",
       "    <tr>\n",
       "      <th>50219</th>\n",
       "      <td>Palmerston North Airport</td>\n",
       "      <td>-40.320599</td>\n",
       "      <td>175.617004</td>\n",
       "      <td>PMR</td>\n",
       "    </tr>\n",
       "    <tr>\n",
       "      <th>50220</th>\n",
       "      <td>Picton Aerodrome</td>\n",
       "      <td>-41.346100</td>\n",
       "      <td>173.955994</td>\n",
       "      <td>PCN</td>\n",
       "    </tr>\n",
       "    <tr>\n",
       "      <th>50222</th>\n",
       "      <td>Paraparaumu Airport</td>\n",
       "      <td>-40.904701</td>\n",
       "      <td>174.988998</td>\n",
       "      <td>PPQ</td>\n",
       "    </tr>\n",
       "    <tr>\n",
       "      <th>50224</th>\n",
       "      <td>Queenstown International Airport</td>\n",
       "      <td>-45.021099</td>\n",
       "      <td>168.738998</td>\n",
       "      <td>ZQN</td>\n",
       "    </tr>\n",
       "    <tr>\n",
       "      <th>50226</th>\n",
       "      <td>Raglan Aerodrome</td>\n",
       "      <td>-37.804699</td>\n",
       "      <td>174.860001</td>\n",
       "      <td>RAG</td>\n",
       "    </tr>\n",
       "    <tr>\n",
       "      <th>50227</th>\n",
       "      <td>Ryan's Creek Aerodrome</td>\n",
       "      <td>-46.899700</td>\n",
       "      <td>168.100998</td>\n",
       "      <td>SZS</td>\n",
       "    </tr>\n",
       "    <tr>\n",
       "      <th>50231</th>\n",
       "      <td>Rotorua Regional Airport</td>\n",
       "      <td>-38.109200</td>\n",
       "      <td>176.317001</td>\n",
       "      <td>ROT</td>\n",
       "    </tr>\n",
       "    <tr>\n",
       "      <th>50243</th>\n",
       "      <td>Tauranga Airport</td>\n",
       "      <td>-37.671902</td>\n",
       "      <td>176.195999</td>\n",
       "      <td>TRG</td>\n",
       "    </tr>\n",
       "    <tr>\n",
       "      <th>50244</th>\n",
       "      <td>Thames Aerodrome</td>\n",
       "      <td>-37.156700</td>\n",
       "      <td>175.550003</td>\n",
       "      <td>TMZ</td>\n",
       "    </tr>\n",
       "    <tr>\n",
       "      <th>50246</th>\n",
       "      <td>Takaka Airport</td>\n",
       "      <td>-40.813301</td>\n",
       "      <td>172.774994</td>\n",
       "      <td>KTF</td>\n",
       "    </tr>\n",
       "    <tr>\n",
       "      <th>50250</th>\n",
       "      <td>Tokoroa Airfield</td>\n",
       "      <td>-38.236698</td>\n",
       "      <td>175.891998</td>\n",
       "      <td>TKZ</td>\n",
       "    </tr>\n",
       "    <tr>\n",
       "      <th>50252</th>\n",
       "      <td>Taharoa Aerodrome</td>\n",
       "      <td>-38.181099</td>\n",
       "      <td>174.707993</td>\n",
       "      <td>THH</td>\n",
       "    </tr>\n",
       "    <tr>\n",
       "      <th>50254</th>\n",
       "      <td>Timaru Airport</td>\n",
       "      <td>-44.302799</td>\n",
       "      <td>171.225006</td>\n",
       "      <td>TIU</td>\n",
       "    </tr>\n",
       "    <tr>\n",
       "      <th>50258</th>\n",
       "      <td>Pukaki Airport</td>\n",
       "      <td>-44.235001</td>\n",
       "      <td>170.117996</td>\n",
       "      <td>TWZ</td>\n",
       "    </tr>\n",
       "    <tr>\n",
       "      <th>50263</th>\n",
       "      <td>Woodbourne Airport</td>\n",
       "      <td>-41.518299</td>\n",
       "      <td>173.869995</td>\n",
       "      <td>BHE</td>\n",
       "    </tr>\n",
       "    <tr>\n",
       "      <th>50266</th>\n",
       "      <td>Wanaka Airport</td>\n",
       "      <td>-44.722954</td>\n",
       "      <td>169.248419</td>\n",
       "      <td>WKA</td>\n",
       "    </tr>\n",
       "    <tr>\n",
       "      <th>50269</th>\n",
       "      <td>Whakatane Airport</td>\n",
       "      <td>-37.920601</td>\n",
       "      <td>176.914001</td>\n",
       "      <td>WHK</td>\n",
       "    </tr>\n",
       "    <tr>\n",
       "      <th>50272</th>\n",
       "      <td>Wellington International Airport</td>\n",
       "      <td>-41.327202</td>\n",
       "      <td>174.804993</td>\n",
       "      <td>WLG</td>\n",
       "    </tr>\n",
       "    <tr>\n",
       "      <th>50273</th>\n",
       "      <td>Wairoa Airport</td>\n",
       "      <td>-39.012118</td>\n",
       "      <td>177.404395</td>\n",
       "      <td>WIR</td>\n",
       "    </tr>\n",
       "    <tr>\n",
       "      <th>50276</th>\n",
       "      <td>Whangarei Airport</td>\n",
       "      <td>-35.769253</td>\n",
       "      <td>174.363713</td>\n",
       "      <td>WRE</td>\n",
       "    </tr>\n",
       "    <tr>\n",
       "      <th>50277</th>\n",
       "      <td>Westport Airport</td>\n",
       "      <td>-41.737111</td>\n",
       "      <td>171.579033</td>\n",
       "      <td>WSZ</td>\n",
       "    </tr>\n",
       "    <tr>\n",
       "      <th>50278</th>\n",
       "      <td>Whitianga Airport</td>\n",
       "      <td>-36.828731</td>\n",
       "      <td>175.682802</td>\n",
       "      <td>WTZ</td>\n",
       "    </tr>\n",
       "    <tr>\n",
       "      <th>50279</th>\n",
       "      <td>Wanganui Airport</td>\n",
       "      <td>-39.962200</td>\n",
       "      <td>175.024994</td>\n",
       "      <td>WAG</td>\n",
       "    </tr>\n",
       "  </tbody>\n",
       "</table>\n",
       "</div>"
      ],
      "text/plain": [
       "                                     name        lat         lon iata_code\n",
       "50020               Fox Glacier Aerodrome -43.461110  170.017020       FGL\n",
       "50084      Auckland International Airport -37.011990  174.786331       AKL\n",
       "50089                       Taupo Airport -38.739700  176.084000       TUO\n",
       "50090                     Ardmore Airport -37.029701  174.973007       AMZ\n",
       "50091                   Ashburton Airport -43.903301  171.796997       ASG\n",
       "50098  Christchurch International Airport -43.489029  172.532065       CHC\n",
       "50099     Chatham Islands / Tuuta Airport -43.811890 -176.465140       CHT\n",
       "50101                  Coromandel Airport -36.791698  175.509003       CMV\n",
       "50102                Dargaville Aerodrome -35.939701  173.893997       DGR\n",
       "50105       Dunedin International Airport -45.928101  170.197998       DUD\n",
       "50115               Franz Josef Aerodrome -43.363098  170.134003       WHO\n",
       "50121             Great Barrier Aerodrome -36.241402  175.472000       GBZ\n",
       "50125                   Greymouth Airport -42.461700  171.190002       GMN\n",
       "50127                    Gisborne Airport -38.663300  177.977997       GIS\n",
       "50128                  Glentanner Airport -43.906700  170.128006       GTN\n",
       "50132                   Hokitika Airfield -42.713600  170.985001       HKK\n",
       "50133      Hamilton International Airport -37.866699  175.332001       HLZ\n",
       "50163            Waiheke Island Aerodrome -36.808899  175.085999       WIK\n",
       "50166                    Kaikoura Airport -42.424999  173.604996       KBZ\n",
       "50167                    Kerikeri Airport -35.259148  173.913317       KKE\n",
       "50170                     Kaikohe Airport -35.451099  173.817001       KKO\n",
       "50171                     Kaitaia Airport -35.069837  173.287053       KAT\n",
       "50178                 Alexandra Aerodrome -45.210495  169.371113       ALR\n",
       "50179             Matamata Glider Airport -37.734402  175.742004       MTA\n",
       "50180              Mechanics Bay Heliport -36.846526  174.787872       MHB\n",
       "50181                  Mount Cook Airport -43.764999  170.132996       MON\n",
       "50183               Milford Sound Airport -44.673302  167.923004       MFN\n",
       "50187                     Motueka Airport -41.123299  172.988998       MZP\n",
       "50189                   Manapouri Airport -45.533100  167.649994       TEU\n",
       "50192                        Hood Airport -40.974634  175.634540       MRO\n",
       "50200                New Plymouth Airport -39.008598  174.179001       NPL\n",
       "50201                 Hawke's Bay Airport -39.465801  176.869995       NPE\n",
       "50202                      Nelson Airport -41.298302  173.220993       NSN\n",
       "50203                Invercargill Airport -46.412399  168.313004       IVC\n",
       "50208                   RNZAF Base Ohakea -40.206001  175.388000       OHA\n",
       "50214                      Oamaru Airport -44.970001  171.082001       OAM\n",
       "50219            Palmerston North Airport -40.320599  175.617004       PMR\n",
       "50220                    Picton Aerodrome -41.346100  173.955994       PCN\n",
       "50222                 Paraparaumu Airport -40.904701  174.988998       PPQ\n",
       "50224    Queenstown International Airport -45.021099  168.738998       ZQN\n",
       "50226                    Raglan Aerodrome -37.804699  174.860001       RAG\n",
       "50227              Ryan's Creek Aerodrome -46.899700  168.100998       SZS\n",
       "50231            Rotorua Regional Airport -38.109200  176.317001       ROT\n",
       "50243                    Tauranga Airport -37.671902  176.195999       TRG\n",
       "50244                    Thames Aerodrome -37.156700  175.550003       TMZ\n",
       "50246                      Takaka Airport -40.813301  172.774994       KTF\n",
       "50250                    Tokoroa Airfield -38.236698  175.891998       TKZ\n",
       "50252                   Taharoa Aerodrome -38.181099  174.707993       THH\n",
       "50254                      Timaru Airport -44.302799  171.225006       TIU\n",
       "50258                      Pukaki Airport -44.235001  170.117996       TWZ\n",
       "50263                  Woodbourne Airport -41.518299  173.869995       BHE\n",
       "50266                      Wanaka Airport -44.722954  169.248419       WKA\n",
       "50269                   Whakatane Airport -37.920601  176.914001       WHK\n",
       "50272    Wellington International Airport -41.327202  174.804993       WLG\n",
       "50273                      Wairoa Airport -39.012118  177.404395       WIR\n",
       "50276                   Whangarei Airport -35.769253  174.363713       WRE\n",
       "50277                    Westport Airport -41.737111  171.579033       WSZ\n",
       "50278                   Whitianga Airport -36.828731  175.682802       WTZ\n",
       "50279                    Wanganui Airport -39.962200  175.024994       WAG"
      ]
     },
     "execution_count": 39,
     "metadata": {},
     "output_type": "execute_result"
    }
   ],
   "source": [
    "airports = pd.read_csv(\n",
    "    \"https://davidmegginson.github.io/ourairports-data/airports.csv\")\n",
    "airports = airports[(airports.iso_country == \"NZ\") &\n",
    "                    (airports.iata_code.notna())]\n",
    "airports = airports[[\"name\", \"latitude_deg\", \"longitude_deg\", \"iata_code\"]]\n",
    "airports = airports.rename(columns = {\"latitude_deg\": \"lat\", \"longitude_deg\": \"lon\"})\n",
    "airports"
   ]
  },
  {
   "cell_type": "markdown",
   "id": "02e9ccf0",
   "metadata": {},
   "source": [
    "Rather out of date (but free!) information about scheduled flights is available via https://openflights.org/data.php."
   ]
  },
  {
   "cell_type": "code",
   "execution_count": 40,
   "id": "78eef2d1",
   "metadata": {},
   "outputs": [
    {
     "data": {
      "application/vnd.microsoft.datawrangler.viewer.v0+json": {
       "columns": [
        {
         "name": "index",
         "rawType": "int64",
         "type": "integer"
        },
        {
         "name": "iata_code_1",
         "rawType": "object",
         "type": "string"
        },
        {
         "name": "iata_code_2",
         "rawType": "object",
         "type": "string"
        }
       ],
       "ref": "81fa2da8-dbf4-4a39-83b6-ace8518cb832",
       "rows": [
        [
         "0",
         "ASF",
         "KZN"
        ],
        [
         "1",
         "ASF",
         "MRV"
        ],
        [
         "2",
         "CEK",
         "KZN"
        ],
        [
         "3",
         "CEK",
         "OVB"
        ],
        [
         "4",
         "DME",
         "KZN"
        ],
        [
         "5",
         "DME",
         "NBC"
        ],
        [
         "6",
         "DME",
         "TGK"
        ],
        [
         "7",
         "DME",
         "UUA"
        ],
        [
         "8",
         "EGO",
         "KGD"
        ],
        [
         "9",
         "EGO",
         "KZN"
        ],
        [
         "10",
         "GYD",
         "NBC"
        ],
        [
         "11",
         "KGD",
         "EGO"
        ],
        [
         "12",
         "KZN",
         "AER"
        ],
        [
         "13",
         "KZN",
         "ASF"
        ],
        [
         "14",
         "KZN",
         "CEK"
        ],
        [
         "15",
         "KZN",
         "DME"
        ],
        [
         "16",
         "KZN",
         "EGO"
        ],
        [
         "17",
         "KZN",
         "LED"
        ],
        [
         "18",
         "KZN",
         "SVX"
        ],
        [
         "19",
         "LED",
         "KZN"
        ],
        [
         "20",
         "LED",
         "NBC"
        ],
        [
         "21",
         "LED",
         "UUA"
        ],
        [
         "22",
         "MRV",
         "ASF"
        ],
        [
         "23",
         "NBC",
         "DME"
        ],
        [
         "24",
         "NBC",
         "GYD"
        ],
        [
         "25",
         "NBC",
         "LED"
        ],
        [
         "26",
         "NBC",
         "SVX"
        ],
        [
         "27",
         "NJC",
         "SVX"
        ],
        [
         "28",
         "NJC",
         "UUA"
        ],
        [
         "29",
         "NUX",
         "SVX"
        ],
        [
         "30",
         "OVB",
         "CEK"
        ],
        [
         "31",
         "OVB",
         "SVX"
        ],
        [
         "32",
         "SVX",
         "KZN"
        ],
        [
         "33",
         "SVX",
         "NBC"
        ],
        [
         "34",
         "SVX",
         "NJC"
        ],
        [
         "35",
         "SVX",
         "NUX"
        ],
        [
         "36",
         "SVX",
         "OVB"
        ],
        [
         "37",
         "TGK",
         "DME"
        ],
        [
         "38",
         "UUA",
         "DME"
        ],
        [
         "39",
         "UUA",
         "LED"
        ],
        [
         "40",
         "UUA",
         "NJC"
        ],
        [
         "41",
         "BTK",
         "IKT"
        ],
        [
         "42",
         "BTK",
         "OVB"
        ],
        [
         "43",
         "CEK",
         "OVB"
        ],
        [
         "44",
         "HTA",
         "IKT"
        ],
        [
         "45",
         "IKT",
         "BTK"
        ],
        [
         "46",
         "IKT",
         "HTA"
        ],
        [
         "47",
         "IKT",
         "KCK"
        ],
        [
         "48",
         "IKT",
         "ODO"
        ],
        [
         "49",
         "IKT",
         "OVB"
        ]
       ],
       "shape": {
        "columns": 2,
        "rows": 67662
       }
      },
      "text/html": [
       "<div>\n",
       "<style scoped>\n",
       "    .dataframe tbody tr th:only-of-type {\n",
       "        vertical-align: middle;\n",
       "    }\n",
       "\n",
       "    .dataframe tbody tr th {\n",
       "        vertical-align: top;\n",
       "    }\n",
       "\n",
       "    .dataframe thead th {\n",
       "        text-align: right;\n",
       "    }\n",
       "</style>\n",
       "<table border=\"1\" class=\"dataframe\">\n",
       "  <thead>\n",
       "    <tr style=\"text-align: right;\">\n",
       "      <th></th>\n",
       "      <th>iata_code_1</th>\n",
       "      <th>iata_code_2</th>\n",
       "    </tr>\n",
       "  </thead>\n",
       "  <tbody>\n",
       "    <tr>\n",
       "      <th>0</th>\n",
       "      <td>ASF</td>\n",
       "      <td>KZN</td>\n",
       "    </tr>\n",
       "    <tr>\n",
       "      <th>1</th>\n",
       "      <td>ASF</td>\n",
       "      <td>MRV</td>\n",
       "    </tr>\n",
       "    <tr>\n",
       "      <th>2</th>\n",
       "      <td>CEK</td>\n",
       "      <td>KZN</td>\n",
       "    </tr>\n",
       "    <tr>\n",
       "      <th>3</th>\n",
       "      <td>CEK</td>\n",
       "      <td>OVB</td>\n",
       "    </tr>\n",
       "    <tr>\n",
       "      <th>4</th>\n",
       "      <td>DME</td>\n",
       "      <td>KZN</td>\n",
       "    </tr>\n",
       "    <tr>\n",
       "      <th>...</th>\n",
       "      <td>...</td>\n",
       "      <td>...</td>\n",
       "    </tr>\n",
       "    <tr>\n",
       "      <th>67657</th>\n",
       "      <td>WYA</td>\n",
       "      <td>ADL</td>\n",
       "    </tr>\n",
       "    <tr>\n",
       "      <th>67658</th>\n",
       "      <td>DME</td>\n",
       "      <td>FRU</td>\n",
       "    </tr>\n",
       "    <tr>\n",
       "      <th>67659</th>\n",
       "      <td>FRU</td>\n",
       "      <td>DME</td>\n",
       "    </tr>\n",
       "    <tr>\n",
       "      <th>67660</th>\n",
       "      <td>FRU</td>\n",
       "      <td>OSS</td>\n",
       "    </tr>\n",
       "    <tr>\n",
       "      <th>67661</th>\n",
       "      <td>OSS</td>\n",
       "      <td>FRU</td>\n",
       "    </tr>\n",
       "  </tbody>\n",
       "</table>\n",
       "<p>67662 rows × 2 columns</p>\n",
       "</div>"
      ],
      "text/plain": [
       "      iata_code_1 iata_code_2\n",
       "0             ASF         KZN\n",
       "1             ASF         MRV\n",
       "2             CEK         KZN\n",
       "3             CEK         OVB\n",
       "4             DME         KZN\n",
       "...           ...         ...\n",
       "67657         WYA         ADL\n",
       "67658         DME         FRU\n",
       "67659         FRU         DME\n",
       "67660         FRU         OSS\n",
       "67661         OSS         FRU\n",
       "\n",
       "[67662 rows x 2 columns]"
      ]
     },
     "execution_count": 40,
     "metadata": {},
     "output_type": "execute_result"
    }
   ],
   "source": [
    "schedule = pd.read_csv(\"https://raw.githubusercontent.com/jpatokal/openflights/master/data/routes.dat\")\n",
    "schedule = schedule.iloc[:, [2, 4]]\n",
    "schedule.columns = [\"iata_code_1\", \"iata_code_2\"]\n",
    "schedule"
   ]
  },
  {
   "cell_type": "markdown",
   "id": "2c84c828",
   "metadata": {},
   "source": [
    "Say we want to associate with each scheduled flight within New Zealand the latitude-longitude of its respective airports. Before doing that we might want to reduce the `schedule` dataset down to only flights between two airports in New Zealand."
   ]
  },
  {
   "cell_type": "code",
   "execution_count": 41,
   "id": "c1746de4",
   "metadata": {},
   "outputs": [
    {
     "data": {
      "application/vnd.microsoft.datawrangler.viewer.v0+json": {
       "columns": [
        {
         "name": "index",
         "rawType": "int64",
         "type": "integer"
        },
        {
         "name": "iata_code_1",
         "rawType": "object",
         "type": "string"
        },
        {
         "name": "iata_code_2",
         "rawType": "object",
         "type": "string"
        }
       ],
       "ref": "a3de424c-bdee-4d99-a39f-891f1fdf8899",
       "rows": [
        [
         "34911",
         "AKL",
         "CHC"
        ],
        [
         "34912",
         "AKL",
         "DUD"
        ],
        [
         "34917",
         "AKL",
         "WLG"
        ],
        [
         "34918",
         "AKL",
         "ZQN"
        ],
        [
         "34938",
         "CHC",
         "AKL"
        ],
        [
         "34942",
         "CHC",
         "WLG"
        ],
        [
         "34965",
         "DUD",
         "AKL"
        ],
        [
         "35060",
         "WLG",
         "AKL"
        ],
        [
         "35061",
         "WLG",
         "CHC"
        ],
        [
         "35062",
         "ZQN",
         "AKL"
        ],
        [
         "43849",
         "AKL",
         "BHE"
        ],
        [
         "43851",
         "AKL",
         "CHC"
        ],
        [
         "43853",
         "AKL",
         "DUD"
        ],
        [
         "43854",
         "AKL",
         "GIS"
        ],
        [
         "43856",
         "AKL",
         "HLZ"
        ],
        [
         "43857",
         "AKL",
         "KAT"
        ],
        [
         "43858",
         "AKL",
         "KKE"
        ],
        [
         "43863",
         "AKL",
         "NPE"
        ],
        [
         "43864",
         "AKL",
         "NPL"
        ],
        [
         "43866",
         "AKL",
         "NSN"
        ],
        [
         "43869",
         "AKL",
         "PMR"
        ],
        [
         "43870",
         "AKL",
         "PPQ"
        ],
        [
         "43874",
         "AKL",
         "ROT"
        ],
        [
         "43878",
         "AKL",
         "TRG"
        ],
        [
         "43879",
         "AKL",
         "TUO"
        ],
        [
         "43881",
         "AKL",
         "WAG"
        ],
        [
         "43882",
         "AKL",
         "WHK"
        ],
        [
         "43883",
         "AKL",
         "WLG"
        ],
        [
         "43884",
         "AKL",
         "WRE"
        ],
        [
         "43885",
         "AKL",
         "ZQN"
        ],
        [
         "43890",
         "BHE",
         "AKL"
        ],
        [
         "43891",
         "BHE",
         "CHC"
        ],
        [
         "43892",
         "BHE",
         "WLG"
        ],
        [
         "43902",
         "CHC",
         "AKL"
        ],
        [
         "43903",
         "CHC",
         "BHE"
        ],
        [
         "43905",
         "CHC",
         "DUD"
        ],
        [
         "43906",
         "CHC",
         "HKK"
        ],
        [
         "43907",
         "CHC",
         "HLZ"
        ],
        [
         "43908",
         "CHC",
         "IVC"
        ],
        [
         "43910",
         "CHC",
         "NPE"
        ],
        [
         "43911",
         "CHC",
         "NPL"
        ],
        [
         "43912",
         "CHC",
         "NSN"
        ],
        [
         "43914",
         "CHC",
         "PMR"
        ],
        [
         "43915",
         "CHC",
         "PPQ"
        ],
        [
         "43916",
         "CHC",
         "ROT"
        ],
        [
         "43918",
         "CHC",
         "TRG"
        ],
        [
         "43919",
         "CHC",
         "WLG"
        ],
        [
         "43920",
         "CHC",
         "ZQN"
        ],
        [
         "43924",
         "DUD",
         "AKL"
        ],
        [
         "43925",
         "DUD",
         "CHC"
        ]
       ],
       "shape": {
        "columns": 2,
        "rows": 114
       }
      },
      "text/html": [
       "<div>\n",
       "<style scoped>\n",
       "    .dataframe tbody tr th:only-of-type {\n",
       "        vertical-align: middle;\n",
       "    }\n",
       "\n",
       "    .dataframe tbody tr th {\n",
       "        vertical-align: top;\n",
       "    }\n",
       "\n",
       "    .dataframe thead th {\n",
       "        text-align: right;\n",
       "    }\n",
       "</style>\n",
       "<table border=\"1\" class=\"dataframe\">\n",
       "  <thead>\n",
       "    <tr style=\"text-align: right;\">\n",
       "      <th></th>\n",
       "      <th>iata_code_1</th>\n",
       "      <th>iata_code_2</th>\n",
       "    </tr>\n",
       "  </thead>\n",
       "  <tbody>\n",
       "    <tr>\n",
       "      <th>34911</th>\n",
       "      <td>AKL</td>\n",
       "      <td>CHC</td>\n",
       "    </tr>\n",
       "    <tr>\n",
       "      <th>34912</th>\n",
       "      <td>AKL</td>\n",
       "      <td>DUD</td>\n",
       "    </tr>\n",
       "    <tr>\n",
       "      <th>34917</th>\n",
       "      <td>AKL</td>\n",
       "      <td>WLG</td>\n",
       "    </tr>\n",
       "    <tr>\n",
       "      <th>34918</th>\n",
       "      <td>AKL</td>\n",
       "      <td>ZQN</td>\n",
       "    </tr>\n",
       "    <tr>\n",
       "      <th>34938</th>\n",
       "      <td>CHC</td>\n",
       "      <td>AKL</td>\n",
       "    </tr>\n",
       "    <tr>\n",
       "      <th>...</th>\n",
       "      <td>...</td>\n",
       "      <td>...</td>\n",
       "    </tr>\n",
       "    <tr>\n",
       "      <th>44072</th>\n",
       "      <td>WRE</td>\n",
       "      <td>WLG</td>\n",
       "    </tr>\n",
       "    <tr>\n",
       "      <th>44073</th>\n",
       "      <td>WSZ</td>\n",
       "      <td>WLG</td>\n",
       "    </tr>\n",
       "    <tr>\n",
       "      <th>44075</th>\n",
       "      <td>ZQN</td>\n",
       "      <td>AKL</td>\n",
       "    </tr>\n",
       "    <tr>\n",
       "      <th>44076</th>\n",
       "      <td>ZQN</td>\n",
       "      <td>CHC</td>\n",
       "    </tr>\n",
       "    <tr>\n",
       "      <th>44077</th>\n",
       "      <td>ZQN</td>\n",
       "      <td>WLG</td>\n",
       "    </tr>\n",
       "  </tbody>\n",
       "</table>\n",
       "<p>114 rows × 2 columns</p>\n",
       "</div>"
      ],
      "text/plain": [
       "      iata_code_1 iata_code_2\n",
       "34911         AKL         CHC\n",
       "34912         AKL         DUD\n",
       "34917         AKL         WLG\n",
       "34918         AKL         ZQN\n",
       "34938         CHC         AKL\n",
       "...           ...         ...\n",
       "44072         WRE         WLG\n",
       "44073         WSZ         WLG\n",
       "44075         ZQN         AKL\n",
       "44076         ZQN         CHC\n",
       "44077         ZQN         WLG\n",
       "\n",
       "[114 rows x 2 columns]"
      ]
     },
     "execution_count": 41,
     "metadata": {},
     "output_type": "execute_result"
    }
   ],
   "source": [
    "schedule_nz = schedule[(schedule.iata_code_1.isin(airports.iata_code)) &\n",
    "                       (schedule.iata_code_2.isin(airports.iata_code))]\n",
    "schedule_nz"
   ]
  },
  {
   "cell_type": "code",
   "execution_count": 37,
   "id": "c6ab73e6",
   "metadata": {},
   "outputs": [
    {
     "data": {
      "application/vnd.microsoft.datawrangler.viewer.v0+json": {
       "columns": [
        {
         "name": "index",
         "rawType": "int64",
         "type": "integer"
        },
        {
         "name": "iata_code_1",
         "rawType": "object",
         "type": "string"
        },
        {
         "name": "iata_code_2",
         "rawType": "object",
         "type": "string"
        },
        {
         "name": "name_1",
         "rawType": "object",
         "type": "string"
        },
        {
         "name": "lat_1",
         "rawType": "float64",
         "type": "float"
        },
        {
         "name": "lon_1",
         "rawType": "float64",
         "type": "float"
        },
        {
         "name": "name_2",
         "rawType": "object",
         "type": "string"
        },
        {
         "name": "lat_2",
         "rawType": "float64",
         "type": "float"
        },
        {
         "name": "lon_2",
         "rawType": "float64",
         "type": "float"
        }
       ],
       "ref": "e6b7a731-38ab-4592-8b1c-e9d032014883",
       "rows": [
        [
         "0",
         "AKL",
         "CHC",
         "Auckland International Airport",
         "-37.01199",
         "174.786331",
         "Christchurch International Airport",
         "-43.489029",
         "172.532065"
        ],
        [
         "1",
         "AKL",
         "DUD",
         "Auckland International Airport",
         "-37.01199",
         "174.786331",
         "Dunedin International Airport",
         "-45.928101",
         "170.197998"
        ],
        [
         "2",
         "AKL",
         "WLG",
         "Auckland International Airport",
         "-37.01199",
         "174.786331",
         "Wellington International Airport",
         "-41.327202",
         "174.804993"
        ],
        [
         "3",
         "AKL",
         "ZQN",
         "Auckland International Airport",
         "-37.01199",
         "174.786331",
         "Queenstown International Airport",
         "-45.021099",
         "168.738998"
        ],
        [
         "4",
         "CHC",
         "AKL",
         "Christchurch International Airport",
         "-43.489029",
         "172.532065",
         "Auckland International Airport",
         "-37.01199",
         "174.786331"
        ],
        [
         "5",
         "CHC",
         "WLG",
         "Christchurch International Airport",
         "-43.489029",
         "172.532065",
         "Wellington International Airport",
         "-41.327202",
         "174.804993"
        ],
        [
         "6",
         "DUD",
         "AKL",
         "Dunedin International Airport",
         "-45.928101",
         "170.197998",
         "Auckland International Airport",
         "-37.01199",
         "174.786331"
        ],
        [
         "7",
         "WLG",
         "AKL",
         "Wellington International Airport",
         "-41.327202",
         "174.804993",
         "Auckland International Airport",
         "-37.01199",
         "174.786331"
        ],
        [
         "8",
         "WLG",
         "CHC",
         "Wellington International Airport",
         "-41.327202",
         "174.804993",
         "Christchurch International Airport",
         "-43.489029",
         "172.532065"
        ],
        [
         "9",
         "ZQN",
         "AKL",
         "Queenstown International Airport",
         "-45.021099",
         "168.738998",
         "Auckland International Airport",
         "-37.01199",
         "174.786331"
        ],
        [
         "10",
         "AKL",
         "BHE",
         "Auckland International Airport",
         "-37.01199",
         "174.786331",
         "Woodbourne Airport",
         "-41.5182991027832",
         "173.8699951171875"
        ],
        [
         "11",
         "AKL",
         "CHC",
         "Auckland International Airport",
         "-37.01199",
         "174.786331",
         "Christchurch International Airport",
         "-43.489029",
         "172.532065"
        ],
        [
         "12",
         "AKL",
         "DUD",
         "Auckland International Airport",
         "-37.01199",
         "174.786331",
         "Dunedin International Airport",
         "-45.928101",
         "170.197998"
        ],
        [
         "13",
         "AKL",
         "GIS",
         "Auckland International Airport",
         "-37.01199",
         "174.786331",
         "Gisborne Airport",
         "-38.6633",
         "177.977997"
        ],
        [
         "14",
         "AKL",
         "HLZ",
         "Auckland International Airport",
         "-37.01199",
         "174.786331",
         "Hamilton International Airport",
         "-37.8666992188",
         "175.332000732"
        ],
        [
         "15",
         "AKL",
         "KAT",
         "Auckland International Airport",
         "-37.01199",
         "174.786331",
         "Kaitaia Airport",
         "-35.069837",
         "173.287053"
        ],
        [
         "16",
         "AKL",
         "KKE",
         "Auckland International Airport",
         "-37.01199",
         "174.786331",
         "Kerikeri Airport",
         "-35.259148",
         "173.913317"
        ],
        [
         "17",
         "AKL",
         "NPE",
         "Auckland International Airport",
         "-37.01199",
         "174.786331",
         "Hawke's Bay Airport",
         "-39.465801",
         "176.869995"
        ],
        [
         "18",
         "AKL",
         "NPL",
         "Auckland International Airport",
         "-37.01199",
         "174.786331",
         "New Plymouth Airport",
         "-39.00859832763672",
         "174.1790008544922"
        ],
        [
         "19",
         "AKL",
         "NSN",
         "Auckland International Airport",
         "-37.01199",
         "174.786331",
         "Nelson Airport",
         "-41.298302",
         "173.220993"
        ],
        [
         "20",
         "AKL",
         "PMR",
         "Auckland International Airport",
         "-37.01199",
         "174.786331",
         "Palmerston North Airport",
         "-40.320599",
         "175.617004"
        ],
        [
         "21",
         "AKL",
         "PPQ",
         "Auckland International Airport",
         "-37.01199",
         "174.786331",
         "Paraparaumu Airport",
         "-40.90470123291016",
         "174.98899841308594"
        ],
        [
         "22",
         "AKL",
         "ROT",
         "Auckland International Airport",
         "-37.01199",
         "174.786331",
         "Rotorua Regional Airport",
         "-38.1092",
         "176.317001"
        ],
        [
         "23",
         "AKL",
         "TRG",
         "Auckland International Airport",
         "-37.01199",
         "174.786331",
         "Tauranga Airport",
         "-37.67190170288086",
         "176.1959991455078"
        ],
        [
         "24",
         "AKL",
         "TUO",
         "Auckland International Airport",
         "-37.01199",
         "174.786331",
         "Taupo Airport",
         "-38.73970031738281",
         "176.08399963378906"
        ],
        [
         "25",
         "AKL",
         "WAG",
         "Auckland International Airport",
         "-37.01199",
         "174.786331",
         "Wanganui Airport",
         "-39.96220016479492",
         "175.02499389648438"
        ],
        [
         "26",
         "AKL",
         "WHK",
         "Auckland International Airport",
         "-37.01199",
         "174.786331",
         "Whakatane Airport",
         "-37.92060089111328",
         "176.91400146484375"
        ],
        [
         "27",
         "AKL",
         "WLG",
         "Auckland International Airport",
         "-37.01199",
         "174.786331",
         "Wellington International Airport",
         "-41.327202",
         "174.804993"
        ],
        [
         "28",
         "AKL",
         "WRE",
         "Auckland International Airport",
         "-37.01199",
         "174.786331",
         "Whangarei Airport",
         "-35.769253",
         "174.363713"
        ],
        [
         "29",
         "AKL",
         "ZQN",
         "Auckland International Airport",
         "-37.01199",
         "174.786331",
         "Queenstown International Airport",
         "-45.021099",
         "168.738998"
        ],
        [
         "30",
         "BHE",
         "AKL",
         "Woodbourne Airport",
         "-41.5182991027832",
         "173.8699951171875",
         "Auckland International Airport",
         "-37.01199",
         "174.786331"
        ],
        [
         "31",
         "BHE",
         "CHC",
         "Woodbourne Airport",
         "-41.5182991027832",
         "173.8699951171875",
         "Christchurch International Airport",
         "-43.489029",
         "172.532065"
        ],
        [
         "32",
         "BHE",
         "WLG",
         "Woodbourne Airport",
         "-41.5182991027832",
         "173.8699951171875",
         "Wellington International Airport",
         "-41.327202",
         "174.804993"
        ],
        [
         "33",
         "CHC",
         "AKL",
         "Christchurch International Airport",
         "-43.489029",
         "172.532065",
         "Auckland International Airport",
         "-37.01199",
         "174.786331"
        ],
        [
         "34",
         "CHC",
         "BHE",
         "Christchurch International Airport",
         "-43.489029",
         "172.532065",
         "Woodbourne Airport",
         "-41.5182991027832",
         "173.8699951171875"
        ],
        [
         "35",
         "CHC",
         "DUD",
         "Christchurch International Airport",
         "-43.489029",
         "172.532065",
         "Dunedin International Airport",
         "-45.928101",
         "170.197998"
        ],
        [
         "36",
         "CHC",
         "HKK",
         "Christchurch International Airport",
         "-43.489029",
         "172.532065",
         "Hokitika Airfield",
         "-42.713600158691406",
         "170.98500061035156"
        ],
        [
         "37",
         "CHC",
         "HLZ",
         "Christchurch International Airport",
         "-43.489029",
         "172.532065",
         "Hamilton International Airport",
         "-37.8666992188",
         "175.332000732"
        ],
        [
         "38",
         "CHC",
         "IVC",
         "Christchurch International Airport",
         "-43.489029",
         "172.532065",
         "Invercargill Airport",
         "-46.41239929199219",
         "168.31300354003906"
        ],
        [
         "39",
         "CHC",
         "NPE",
         "Christchurch International Airport",
         "-43.489029",
         "172.532065",
         "Hawke's Bay Airport",
         "-39.465801",
         "176.869995"
        ],
        [
         "40",
         "CHC",
         "NPL",
         "Christchurch International Airport",
         "-43.489029",
         "172.532065",
         "New Plymouth Airport",
         "-39.00859832763672",
         "174.1790008544922"
        ],
        [
         "41",
         "CHC",
         "NSN",
         "Christchurch International Airport",
         "-43.489029",
         "172.532065",
         "Nelson Airport",
         "-41.298302",
         "173.220993"
        ],
        [
         "42",
         "CHC",
         "PMR",
         "Christchurch International Airport",
         "-43.489029",
         "172.532065",
         "Palmerston North Airport",
         "-40.320599",
         "175.617004"
        ],
        [
         "43",
         "CHC",
         "PPQ",
         "Christchurch International Airport",
         "-43.489029",
         "172.532065",
         "Paraparaumu Airport",
         "-40.90470123291016",
         "174.98899841308594"
        ],
        [
         "44",
         "CHC",
         "ROT",
         "Christchurch International Airport",
         "-43.489029",
         "172.532065",
         "Rotorua Regional Airport",
         "-38.1092",
         "176.317001"
        ],
        [
         "45",
         "CHC",
         "TRG",
         "Christchurch International Airport",
         "-43.489029",
         "172.532065",
         "Tauranga Airport",
         "-37.67190170288086",
         "176.1959991455078"
        ],
        [
         "46",
         "CHC",
         "WLG",
         "Christchurch International Airport",
         "-43.489029",
         "172.532065",
         "Wellington International Airport",
         "-41.327202",
         "174.804993"
        ],
        [
         "47",
         "CHC",
         "ZQN",
         "Christchurch International Airport",
         "-43.489029",
         "172.532065",
         "Queenstown International Airport",
         "-45.021099",
         "168.738998"
        ],
        [
         "48",
         "DUD",
         "AKL",
         "Dunedin International Airport",
         "-45.928101",
         "170.197998",
         "Auckland International Airport",
         "-37.01199",
         "174.786331"
        ],
        [
         "49",
         "DUD",
         "CHC",
         "Dunedin International Airport",
         "-45.928101",
         "170.197998",
         "Christchurch International Airport",
         "-43.489029",
         "172.532065"
        ]
       ],
       "shape": {
        "columns": 8,
        "rows": 114
       }
      },
      "text/html": [
       "<div>\n",
       "<style scoped>\n",
       "    .dataframe tbody tr th:only-of-type {\n",
       "        vertical-align: middle;\n",
       "    }\n",
       "\n",
       "    .dataframe tbody tr th {\n",
       "        vertical-align: top;\n",
       "    }\n",
       "\n",
       "    .dataframe thead th {\n",
       "        text-align: right;\n",
       "    }\n",
       "</style>\n",
       "<table border=\"1\" class=\"dataframe\">\n",
       "  <thead>\n",
       "    <tr style=\"text-align: right;\">\n",
       "      <th></th>\n",
       "      <th>iata_code_1</th>\n",
       "      <th>iata_code_2</th>\n",
       "      <th>name_1</th>\n",
       "      <th>lat_1</th>\n",
       "      <th>lon_1</th>\n",
       "      <th>name_2</th>\n",
       "      <th>lat_2</th>\n",
       "      <th>lon_2</th>\n",
       "    </tr>\n",
       "  </thead>\n",
       "  <tbody>\n",
       "    <tr>\n",
       "      <th>0</th>\n",
       "      <td>AKL</td>\n",
       "      <td>CHC</td>\n",
       "      <td>Auckland International Airport</td>\n",
       "      <td>-37.011990</td>\n",
       "      <td>174.786331</td>\n",
       "      <td>Christchurch International Airport</td>\n",
       "      <td>-43.489029</td>\n",
       "      <td>172.532065</td>\n",
       "    </tr>\n",
       "    <tr>\n",
       "      <th>1</th>\n",
       "      <td>AKL</td>\n",
       "      <td>DUD</td>\n",
       "      <td>Auckland International Airport</td>\n",
       "      <td>-37.011990</td>\n",
       "      <td>174.786331</td>\n",
       "      <td>Dunedin International Airport</td>\n",
       "      <td>-45.928101</td>\n",
       "      <td>170.197998</td>\n",
       "    </tr>\n",
       "    <tr>\n",
       "      <th>2</th>\n",
       "      <td>AKL</td>\n",
       "      <td>WLG</td>\n",
       "      <td>Auckland International Airport</td>\n",
       "      <td>-37.011990</td>\n",
       "      <td>174.786331</td>\n",
       "      <td>Wellington International Airport</td>\n",
       "      <td>-41.327202</td>\n",
       "      <td>174.804993</td>\n",
       "    </tr>\n",
       "    <tr>\n",
       "      <th>3</th>\n",
       "      <td>AKL</td>\n",
       "      <td>ZQN</td>\n",
       "      <td>Auckland International Airport</td>\n",
       "      <td>-37.011990</td>\n",
       "      <td>174.786331</td>\n",
       "      <td>Queenstown International Airport</td>\n",
       "      <td>-45.021099</td>\n",
       "      <td>168.738998</td>\n",
       "    </tr>\n",
       "    <tr>\n",
       "      <th>4</th>\n",
       "      <td>CHC</td>\n",
       "      <td>AKL</td>\n",
       "      <td>Christchurch International Airport</td>\n",
       "      <td>-43.489029</td>\n",
       "      <td>172.532065</td>\n",
       "      <td>Auckland International Airport</td>\n",
       "      <td>-37.011990</td>\n",
       "      <td>174.786331</td>\n",
       "    </tr>\n",
       "    <tr>\n",
       "      <th>...</th>\n",
       "      <td>...</td>\n",
       "      <td>...</td>\n",
       "      <td>...</td>\n",
       "      <td>...</td>\n",
       "      <td>...</td>\n",
       "      <td>...</td>\n",
       "      <td>...</td>\n",
       "      <td>...</td>\n",
       "    </tr>\n",
       "    <tr>\n",
       "      <th>109</th>\n",
       "      <td>WRE</td>\n",
       "      <td>WLG</td>\n",
       "      <td>Whangarei Airport</td>\n",
       "      <td>-35.769253</td>\n",
       "      <td>174.363713</td>\n",
       "      <td>Wellington International Airport</td>\n",
       "      <td>-41.327202</td>\n",
       "      <td>174.804993</td>\n",
       "    </tr>\n",
       "    <tr>\n",
       "      <th>110</th>\n",
       "      <td>WSZ</td>\n",
       "      <td>WLG</td>\n",
       "      <td>Westport Airport</td>\n",
       "      <td>-41.737111</td>\n",
       "      <td>171.579033</td>\n",
       "      <td>Wellington International Airport</td>\n",
       "      <td>-41.327202</td>\n",
       "      <td>174.804993</td>\n",
       "    </tr>\n",
       "    <tr>\n",
       "      <th>111</th>\n",
       "      <td>ZQN</td>\n",
       "      <td>AKL</td>\n",
       "      <td>Queenstown International Airport</td>\n",
       "      <td>-45.021099</td>\n",
       "      <td>168.738998</td>\n",
       "      <td>Auckland International Airport</td>\n",
       "      <td>-37.011990</td>\n",
       "      <td>174.786331</td>\n",
       "    </tr>\n",
       "    <tr>\n",
       "      <th>112</th>\n",
       "      <td>ZQN</td>\n",
       "      <td>CHC</td>\n",
       "      <td>Queenstown International Airport</td>\n",
       "      <td>-45.021099</td>\n",
       "      <td>168.738998</td>\n",
       "      <td>Christchurch International Airport</td>\n",
       "      <td>-43.489029</td>\n",
       "      <td>172.532065</td>\n",
       "    </tr>\n",
       "    <tr>\n",
       "      <th>113</th>\n",
       "      <td>ZQN</td>\n",
       "      <td>WLG</td>\n",
       "      <td>Queenstown International Airport</td>\n",
       "      <td>-45.021099</td>\n",
       "      <td>168.738998</td>\n",
       "      <td>Wellington International Airport</td>\n",
       "      <td>-41.327202</td>\n",
       "      <td>174.804993</td>\n",
       "    </tr>\n",
       "  </tbody>\n",
       "</table>\n",
       "<p>114 rows × 8 columns</p>\n",
       "</div>"
      ],
      "text/plain": [
       "    iata_code_1 iata_code_2                              name_1      lat_1  \\\n",
       "0           AKL         CHC      Auckland International Airport -37.011990   \n",
       "1           AKL         DUD      Auckland International Airport -37.011990   \n",
       "2           AKL         WLG      Auckland International Airport -37.011990   \n",
       "3           AKL         ZQN      Auckland International Airport -37.011990   \n",
       "4           CHC         AKL  Christchurch International Airport -43.489029   \n",
       "..          ...         ...                                 ...        ...   \n",
       "109         WRE         WLG                   Whangarei Airport -35.769253   \n",
       "110         WSZ         WLG                    Westport Airport -41.737111   \n",
       "111         ZQN         AKL    Queenstown International Airport -45.021099   \n",
       "112         ZQN         CHC    Queenstown International Airport -45.021099   \n",
       "113         ZQN         WLG    Queenstown International Airport -45.021099   \n",
       "\n",
       "          lon_1                              name_2      lat_2       lon_2  \n",
       "0    174.786331  Christchurch International Airport -43.489029  172.532065  \n",
       "1    174.786331       Dunedin International Airport -45.928101  170.197998  \n",
       "2    174.786331    Wellington International Airport -41.327202  174.804993  \n",
       "3    174.786331    Queenstown International Airport -45.021099  168.738998  \n",
       "4    172.532065      Auckland International Airport -37.011990  174.786331  \n",
       "..          ...                                 ...        ...         ...  \n",
       "109  174.363713    Wellington International Airport -41.327202  174.804993  \n",
       "110  171.579033    Wellington International Airport -41.327202  174.804993  \n",
       "111  168.738998      Auckland International Airport -37.011990  174.786331  \n",
       "112  168.738998  Christchurch International Airport -43.489029  172.532065  \n",
       "113  168.738998    Wellington International Airport -41.327202  174.804993  \n",
       "\n",
       "[114 rows x 8 columns]"
      ]
     },
     "execution_count": 37,
     "metadata": {},
     "output_type": "execute_result"
    }
   ],
   "source": [
    "schedule \\\n",
    "    .merge(airports.add_suffix(\"_1\")) \\\n",
    "    .merge(airports.add_suffix(\"_2\"))"
   ]
  },
  {
   "cell_type": "markdown",
   "id": "f46cf3c5",
   "metadata": {},
   "source": [
    "## Concatenating tables with `concat()`\n",
    "Sometimes you have data from more than one source that are organised identically&mdash;in particular they have the same or shared column names. Less often you may have data from two different sources that record different attributes for the same set of objects, arranged in the same order. In either of these cases you can basically 'sticky-tape' the tables or series together using `concat`. We already saw this in action [back here](02-navigating-pandas.ipynb#dataframe). As usual, you can combine data row-wise or column-wise. When you want to make up a `DataFrame` from a bunch of `Series` you do `pd.concat(<list of Series>, axis = \"columns\")` but sometimes you just want to extend `Series` by appending them to others."
   ]
  },
  {
   "cell_type": "code",
   "execution_count": 4,
   "id": "9d9f2bb0",
   "metadata": {},
   "outputs": [
    {
     "name": "stdout",
     "output_type": "stream",
     "text": [
      "a     0\n",
      "b     1\n",
      "c     2\n",
      "d     3\n",
      "e     4\n",
      "f     6\n",
      "g     7\n",
      "h     8\n",
      "i     9\n",
      "j    10\n",
      "dtype: int64\n"
     ]
    }
   ],
   "source": [
    "s1 = pd.Series(range(5), index = list(\"abcde\"))\n",
    "s2 = pd.Series(range(6, 11), index = list(\"fghij\"))\n",
    "print(pd.concat([s1, s2]))"
   ]
  },
  {
   "cell_type": "markdown",
   "id": "1fd3649e",
   "metadata": {},
   "source": [
    "If we concatenate these two series by columns, there will be many missing values:"
   ]
  },
  {
   "cell_type": "code",
   "execution_count": 5,
   "id": "64285f95",
   "metadata": {},
   "outputs": [
    {
     "name": "stdout",
     "output_type": "stream",
     "text": [
      "     0     1\n",
      "a  0.0   NaN\n",
      "b  1.0   NaN\n",
      "c  2.0   NaN\n",
      "d  3.0   NaN\n",
      "e  4.0   NaN\n",
      "f  NaN   6.0\n",
      "g  NaN   7.0\n",
      "h  NaN   8.0\n",
      "i  NaN   9.0\n",
      "j  NaN  10.0\n"
     ]
    }
   ],
   "source": [
    "print(pd.concat([s1, s2], axis = \"columns\"))"
   ]
  }
 ],
 "metadata": {
  "kernelspec": {
   "display_name": "intro-python",
   "language": "python",
   "name": "python3"
  },
  "language_info": {
   "codemirror_mode": {
    "name": "ipython",
    "version": 3
   },
   "file_extension": ".py",
   "mimetype": "text/x-python",
   "name": "python",
   "nbconvert_exporter": "python",
   "pygments_lexer": "ipython3",
   "version": "3.12.9"
  }
 },
 "nbformat": 4,
 "nbformat_minor": 5
}
