{
 "cells": [
  {
   "cell_type": "markdown",
   "id": "3801b4fc",
   "metadata": {},
   "source": [
    "# Making a notebook into a script\n",
    "It's easy to make a notebook into a script.\n",
    "\n",
    "First write some code"
   ]
  },
  {
   "cell_type": "code",
   "execution_count": 2,
   "id": "daba12e7",
   "metadata": {},
   "outputs": [
    {
     "name": "stdout",
     "output_type": "stream",
     "text": [
      "Hello world\n"
     ]
    }
   ],
   "source": [
    "def greeting(name = \"world\"):\n",
    "    print(f\"Hello {name}\")\n",
    "    \n",
    "greeting()"
   ]
  },
  {
   "cell_type": "markdown",
   "id": "f32f3491",
   "metadata": {},
   "source": [
    "You save it to a script in VSCode with `<cmd><shift><p>` then find the export to script option. I saved this one to `simple-script.py`. You can run it from the command line with \n",
    "\n",
    "    python3 simple-script.py\n",
    "\n",
    "That's pretty much it for a simple script.\n",
    "\n",
    "Many developers recommend against using notebooks for code development. I can see the problems, but for simple scripts that are largely linear (like many data processing pipelines) I think it is fine to figure out the details interactively in a notebook and then deploy as a script. \n",
    "\n",
    "## Passing arguments into a script\n",
    "The main additional feature desirable in a script is how to pass parameters into the script at run time. This is also not difficult. Here's a version of the code for the above hello world that can take in a command line parameter. It uses `sys.argv`. Consult the documentation for more about this.\n",
    "\n",
    "```python\n",
    "import sys\n",
    "\n",
    "def greeting(name = \"world\"):\n",
    "    print(f\"Hello {name}\")\n",
    "\n",
    "if len(sys.argv) > 1:\n",
    "    greeting(sys.argv[1])\n",
    "else:\n",
    "    greeting()\n",
    "```"
   ]
  },
  {
   "cell_type": "markdown",
   "id": "dc633212",
   "metadata": {},
   "source": [
    "`sys.argv` is a list containing all the values in the command line. Item 0 is the script name, item 1 the next one, item 2 the next one, and so on. This approach makes it simple to develop scripts that you can point at a specified file.\n",
    "\n",
    "## More complicated arguments and help\n",
    "The [`argparse`](https://docs.python.org/3/library/argparse.html#module-argparse) module provides options to make much more complex command line options which may be desirable for data processing pipeline scripts.\n",
    "\n",
    "```python\n",
    "import argparse\n",
    "parser = argparse.ArgumentParser()\n",
    "parser.add_argument(\n",
    "    \"-n\", \"--name\", help = \"name to greet\")\n",
    "parser.parse_args()\n",
    "args = parser.parse_args()\n",
    "\n",
    "def greeting(name = \"world\"):\n",
    "    print(f\"Hello {name}\")\n",
    "\n",
    "if args.name is None:\n",
    "    greeting()\n",
    "else:\n",
    "    greeting(args.name)\n",
    "```\n",
    "\n",
    "The [tutorial materials here](https://docs.python.org/3/howto/argparse.html) provide an easily following guide to developing complex command line options."
   ]
  }
 ],
 "metadata": {
  "kernelspec": {
   "display_name": "intro-python-2",
   "language": "python",
   "name": "python3"
  },
  "language_info": {
   "codemirror_mode": {
    "name": "ipython",
    "version": 3
   },
   "file_extension": ".py",
   "mimetype": "text/x-python",
   "name": "python",
   "nbconvert_exporter": "python",
   "pygments_lexer": "ipython3",
   "version": "3.11.6"
  }
 },
 "nbformat": 4,
 "nbformat_minor": 5
}
