{
 "cells": [
  {
   "cell_type": "code",
   "execution_count": null,
   "id": "f5076433",
   "metadata": {},
   "outputs": [],
   "source": [
    "%matplotlib inline\n",
    "import pandas as pd\n",
    "import geopandas as gpd\n",
    "import matplotlib.pyplot as plt"
   ]
  },
  {
   "cell_type": "markdown",
   "id": "48c919ff",
   "metadata": {},
   "source": [
    "# Weighted overlay\n",
    "Here's a recipe for assigning a quantity from one set of polygons to another, based on the areas of overlap."
   ]
  },
  {
   "cell_type": "code",
   "execution_count": null,
   "id": "2270b65e",
   "metadata": {},
   "outputs": [],
   "source": [
    "sa2 = gpd.read_file(\"data/sa2-wellington.gpkg\")\n",
    "school_zones = gpd.read_file(\"data/school-zones.gpkg\")\n",
    "ax = sa2.plot(alpha = 0.5, ec = \"w\", lw = 0.5, figsize = (8, 8))\n",
    "school_zones.plot(ax = ax, fc = \"red\", alpha = 0.5, ec = \"k\", lw = 0.5)"
   ]
  },
  {
   "cell_type": "markdown",
   "id": "afd13715",
   "metadata": {},
   "source": [
    "To estimate population of the school zones based on population of the SA2 polygons we need their area, so make a copy of the data and add that as a new column with an `assign()` operation."
   ]
  },
  {
   "cell_type": "code",
   "execution_count": null,
   "id": "3066ab12",
   "metadata": {},
   "outputs": [],
   "source": [
    "sa2_area = sa2.assign(sa2_area = sa2.area)\n",
    "sa2_area"
   ]
  },
  {
   "cell_type": "markdown",
   "id": "8b343c09",
   "metadata": {},
   "source": [
    "Next, overlay the school zones and the SA2s, and calculate the areas of the intersections. Here we use the `overlay()` method which is similar to the `sjoin` operation but creates the geospatial unit associated with each of the spatial relations between the two datasets, in this case the intersection of the two sets of polygons. \n",
    "\n",
    "Here we use a _lambda function_ which is an anonymous inline function, with a single parameter `x` which stands in for the dataframe to which the `assign()` operation is being applied, i.e., in this case the output from the `overlay()` operation, which we know will have a `geometry` column."
   ]
  },
  {
   "cell_type": "code",
   "execution_count": null,
   "id": "90d0dd4d",
   "metadata": {},
   "outputs": [],
   "source": [
    "school_zones_sa2 = school_zones \\\n",
    "    .overlay(sa2_area) \\\n",
    "    .assign(area = lambda x: x.geometry.area)\n",
    "\n",
    "region = gpd.GeoSeries([sa2_area.union_all().union(school_zones.union_all())])"
   ]
  },
  {
   "cell_type": "markdown",
   "id": "a1dff019",
   "metadata": {},
   "source": [
    "Now we can estimate populations of the school zones based on the fraction of SA2 area formed by each of these new polygons, make a new dataframe with this information, and merge it back into the school zones data. "
   ]
  },
  {
   "cell_type": "code",
   "execution_count": null,
   "id": "0b68f9b8",
   "metadata": {},
   "outputs": [],
   "source": [
    "school_zones_sa2[\"est_pop\"] = \\\n",
    "    school_zones_sa2.CURPop * school_zones_sa2.area / school_zones_sa2.sa2_area\n",
    "school_zone_pops = school_zones_sa2 \\\n",
    "    .groupby(\"School_ID\", as_index = False) \\\n",
    "    .agg({\"est_pop\": \"sum\"})\n",
    "school_zone_pops = school_zones.merge(school_zone_pops)"
   ]
  },
  {
   "cell_type": "code",
   "execution_count": null,
   "id": "771f3585",
   "metadata": {},
   "outputs": [],
   "source": [
    "school_zone_pops"
   ]
  },
  {
   "cell_type": "markdown",
   "id": "4fc8c825",
   "metadata": {},
   "source": [
    "And now we can make a map"
   ]
  },
  {
   "cell_type": "code",
   "execution_count": null,
   "id": "893f3ef9",
   "metadata": {},
   "outputs": [],
   "source": [
    "ax = region.plot(fc = \"#00000000\", ec = \"k\", figsize = (8, 8))\n",
    "school_zone_pops.plot(\n",
    "    ax = ax, column = \"est_pop\", \n",
    "    cmap = \"Reds\", alpha = 0.5, k = 9, scheme = \"equalinterval\", \n",
    "    ec = \"k\", lw = 0.35, legend = True, legend_kwds = {\"loc\": \"upper left\"})\n",
    "ax.set_axis_off()\n",
    "plt.show()"
   ]
  },
  {
   "cell_type": "markdown",
   "id": "3d52259c",
   "metadata": {},
   "source": [
    "## Wrap it in a function\n",
    "Again, it is instructive to think about how to wrap all this in a function. Here's one possibility:"
   ]
  },
  {
   "cell_type": "code",
   "execution_count": null,
   "id": "ca985293",
   "metadata": {},
   "outputs": [],
   "source": [
    "def area_interpolation(\n",
    "    src:gpd.GeoDataFrame,\n",
    "    dst:gpd.GeoDataFrame,\n",
    "    vars:list[str],\n",
    "    id_var:str) -> gpd.GeoDataFrame:\n",
    "    \"\"\"Returns estimates of extensive variables based on areas of overlap.\n",
    "\n",
    "    Args:\n",
    "        src (gpd.GeoDataFrame): source gdf with original variable estimates.\n",
    "        dst (gpd.GeoDataFrame): destination gdf of areas where estimates are to\n",
    "            be made.\n",
    "        vars (list[str]): variable names for which estimates are required.\n",
    "        id_var (str): unique id attribute in the destination gdf.\n",
    "\n",
    "    Returns:\n",
    "        gpd.GeoDataFrame: new gdf with estimates of requested variables, which\n",
    "            will be prefixed 'est_'.\n",
    "    \"\"\"\n",
    "    new_vars = {v: f\"est_{v}\" for v in vars}\n",
    "    src_area = src.assign(src_area = src.area)\n",
    "    overlay = dst \\\n",
    "        .overlay(src_area) \\\n",
    "        .assign(area = lambda x: x.geometry.area)\n",
    "    for v, new_v in new_vars.items():\n",
    "        overlay[new_v] = overlay[v] * overlay.area / overlay.src_area\n",
    "    return dst.merge(\n",
    "        overlay \\\n",
    "            .groupby(id_var, as_index = False) \\\n",
    "            .agg({v: \"sum\" for v in new_vars.values()}) )\n",
    "\n",
    "area_interpolation(sa2, school_zones, [\"CURPop\"], \"School_ID\")"
   ]
  }
 ],
 "metadata": {
  "kernelspec": {
   "display_name": "intro-python-2",
   "language": "python",
   "name": "python3"
  },
  "language_info": {
   "codemirror_mode": {
    "name": "ipython",
    "version": 3
   },
   "file_extension": ".py",
   "mimetype": "text/x-python",
   "name": "python",
   "nbconvert_exporter": "python",
   "pygments_lexer": "ipython3",
   "version": "3.11.6"
  }
 },
 "nbformat": 4,
 "nbformat_minor": 5
}
