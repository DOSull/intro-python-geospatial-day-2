{
 "cells": [
  {
   "cell_type": "code",
   "execution_count": null,
   "id": "c24b9e7c",
   "metadata": {},
   "outputs": [],
   "source": [
    "%matplotlib inline\n",
    "import pandas as pd\n",
    "import geopandas as gpd\n",
    "import matplotlib.pyplot as plt"
   ]
  },
  {
   "cell_type": "markdown",
   "id": "64e00722",
   "metadata": {},
   "source": [
    "# Simple maps in `geopandas`\n",
    "First I'll make a simple Wellington dataset. This is mostly refamiliarisation with things we've been covering."
   ]
  },
  {
   "cell_type": "code",
   "execution_count": null,
   "id": "dcc708bb",
   "metadata": {},
   "outputs": [],
   "source": [
    "geographies = pd.read_csv(\"data/geographic-areas-table-2023.csv\")[\n",
    "    [\"SA22023_code\", \"SA22023_name\", \"SA12023_code\"]]"
   ]
  },
  {
   "cell_type": "code",
   "execution_count": null,
   "id": "82060bd9",
   "metadata": {},
   "outputs": [],
   "source": [
    "welly = gpd.read_file(\"data/sa1-wellington.gpkg\")\n",
    "welly.SA12023_V1_00 = welly.SA12023_V1_00.astype(\"int64\")"
   ]
  },
  {
   "cell_type": "code",
   "execution_count": null,
   "id": "6f5efe7d",
   "metadata": {},
   "outputs": [],
   "source": [
    "welly = welly.merge(geographies, \n",
    "                    left_on = \"SA12023_V1_00\", right_on = \"SA12023_code\") \\\n",
    "   .rename(mapper = {\"SA22023_code\": \"sa2_code\", \n",
    "                     \"SA22023_name\": \"name\"}, axis = \"columns\") \\\n",
    "   .drop(columns = [\"SA12023_code\"])\n",
    "\n",
    "welly"
   ]
  },
  {
   "cell_type": "markdown",
   "id": "c30a19f4",
   "metadata": {},
   "source": [
    "One new thing here: the `dissolve` operation allows us to combine (in this case) SA1s into SA2s, and the `aggfunc` parameter can specify what functions to use on each variable (using a dictionary), when calculating values for the dissolved areas from data in the source areas. Here we want to sum populations, but just pick the first value for the SA2 names. "
   ]
  },
  {
   "cell_type": "code",
   "execution_count": null,
   "id": "f340d4ac",
   "metadata": {},
   "outputs": [],
   "source": [
    "pop_data = pd.read_csv(\"data/sa1-pops.csv\")\n",
    "pop_data"
   ]
  },
  {
   "cell_type": "code",
   "execution_count": null,
   "id": "3d0504d4",
   "metadata": {},
   "outputs": [],
   "source": [
    "welly = welly.merge(pop_data) \\\n",
    "    .dissolve(by = \"sa2_code\", aggfunc = {\"CURPop\": \"sum\", \n",
    "                                          \"name\": \"first\"})\n",
    "welly[\"pop_density\"] = welly.CURPop / welly.geometry.area * 1000000\n",
    "\n",
    "welly"
   ]
  },
  {
   "cell_type": "markdown",
   "id": "42c6c44b",
   "metadata": {},
   "source": [
    "We'll also save this for later use."
   ]
  },
  {
   "cell_type": "code",
   "execution_count": null,
   "id": "33ea941f",
   "metadata": {},
   "outputs": [],
   "source": [
    "welly.to_file(\"data/sa2-wellington.gpkg\", overwrite = True)"
   ]
  },
  {
   "cell_type": "markdown",
   "id": "579cb6bc",
   "metadata": {},
   "source": [
    "## Static maps using `matplotlib`\n",
    "`geopandas` default mapping tool is `matplotlib` which is frankly... pretty horrible! Since you work in a GIS team it's unlikely you'll be using it to make final maps for publication, but you can make very useful exploratory maps for analysis and also for inclusion in regular reports.\n",
    "\n",
    "In the cells below, I show how we can make a simple map, and then progressively add various refinements to make it (potentially!) useful. The basic plotting function isn't great, but provides a useful sanity check (did I load the right data? Are there missing values?)"
   ]
  },
  {
   "cell_type": "code",
   "execution_count": null,
   "id": "f067d79b",
   "metadata": {},
   "outputs": [],
   "source": [
    "welly.plot()\n",
    "plt.show()"
   ]
  },
  {
   "cell_type": "markdown",
   "id": "86c551f4",
   "metadata": {},
   "source": [
    "Would be nice it it was bigger... control that with the `figsize` parameter, which is width, height in inches as a tuple. The dimensions aren't really 'real' unless you export things out to a file, but you can still use this parameter to make the map a better size for your purposes."
   ]
  },
  {
   "cell_type": "code",
   "execution_count": null,
   "id": "54a48fed",
   "metadata": {},
   "outputs": [],
   "source": [
    "welly.plot(figsize = (12, 12))\n",
    "plt.show()"
   ]
  },
  {
   "cell_type": "markdown",
   "id": "0c8cf6f0",
   "metadata": {},
   "source": [
    "We can specify fill colour, edge colour, and line width. In the code I use abbreviated parameter names. The full names are `facecolor`, `edgecolor`, and `linewidth`. Colours can be specified using any of `matplotlib`'s many options as [detailed here](https://matplotlib.org/stable/users/explain/colors/colors.html#colors-def)."
   ]
  },
  {
   "cell_type": "code",
   "execution_count": null,
   "id": "f50b3be5",
   "metadata": {},
   "outputs": [],
   "source": [
    "welly.plot(figsize = (12, 12), fc = \"darkgrey\", ec = \"white\", lw = 0.5)\n",
    "plt.show()"
   ]
  },
  {
   "cell_type": "markdown",
   "id": "5ac30b06",
   "metadata": {},
   "source": [
    "Labelling this with the names of SA2s is possible, but a bit roundabout. We can't label a whole bunch of points at once, but instead have to iterate over them and them one at a time using the `text()` method of the `Axes` object on which our map has been plotted. We get access to the `Axes` object by assigning our plot to a variable, which gives us a 'handle' on the plot, which we use to add additional layers, or otherwise change things. Below, I've used its `set_axis_off()` method to remove the x and y axes."
   ]
  },
  {
   "cell_type": "code",
   "execution_count": null,
   "id": "ec8380d6",
   "metadata": {},
   "outputs": [],
   "source": [
    "ax = welly.plot(figsize = (12, 12), fc = \"lightgrey\", ec = \"white\", lw = 0.5)\n",
    "\n",
    "for pt, label in zip(welly.geometry.representative_point(), welly.name):\n",
    "    ax.text(x = pt.x, y = pt.y, s = label, \n",
    "            fontsize = 6, ha = \"center\", va = \"center\")\n",
    "ax.set_axis_off()\n",
    "\n",
    "plt.show()"
   ]
  },
  {
   "cell_type": "markdown",
   "id": "abcb4f1e",
   "metadata": {},
   "source": [
    "If you really want to label maps in python, I recommend developing lists of named locations as separate data layers!\n",
    "\n",
    "## Thematic maps\n",
    "Probably, you have data which you'd like to map. This is something that `geopandas` does a reasonable job of, via `matplotlib` and also assuming that you have `mapclassify` installed in the environment. You have to specify the variable on which any variation in colours is to be based, along with a 'colour map' name to be used. By default, this will give an unclassed choropleth, where colours are assigned on a continuous scale. Available colour maps are [listed here](https://matplotlib.org/stable/users/explain/colors/colormaps.html). When you don't specify a classification `scheme` (see below) I'm afraid you are stuck with the colour ramp format of legend."
   ]
  },
  {
   "cell_type": "code",
   "execution_count": null,
   "id": "4831e72d",
   "metadata": {},
   "outputs": [],
   "source": [
    "ax = welly.plot(column = \"pop_density\", cmap = \"Purples\", ec = \"k\", lw = 0.5, \n",
    "                figsize = (12, 12), legend = True)\n",
    "ax.set_axis_off()\n",
    "\n",
    "plt.show()"
   ]
  },
  {
   "cell_type": "markdown",
   "id": "55a33e83",
   "metadata": {},
   "source": [
    "`mapclassify` makes many options available for classification, which we very skew data like these can be useful. By the way, you can see just how skew by choosing a different kind of plot:"
   ]
  },
  {
   "cell_type": "code",
   "execution_count": null,
   "id": "d20d833e",
   "metadata": {},
   "outputs": [],
   "source": [
    "welly.plot(kind = \"hist\", column = \"pop_density\", \n",
    "           color = \"lightgrey\", edgecolor = \"k\")\n",
    "\n",
    "plt.show()"
   ]
  },
  {
   "cell_type": "markdown",
   "id": "a77ab217",
   "metadata": {},
   "source": [
    "Anyway, back to maps... assuming `mapclassify` is installed, specify `scheme` and `k` (the number of classes) to get the classification you want."
   ]
  },
  {
   "cell_type": "code",
   "execution_count": null,
   "id": "17cdb84e",
   "metadata": {},
   "outputs": [],
   "source": [
    "ax = welly.plot(column = \"pop_density\", cmap = \"Purples\", \n",
    "                scheme = \"quantiles\", k = 7,\n",
    "                ec = \"k\", lw = 0.5, figsize = (12, 12), \n",
    "                legend = True, \n",
    "                legend_kwds = {\"title\": \"Pop density per sq km\",\n",
    "                               \"loc\": \"upper left\"})\n",
    "ax.set_axis_off()\n",
    "plt.show()"
   ]
  },
  {
   "cell_type": "markdown",
   "id": "96ee3ef2",
   "metadata": {},
   "source": [
    "The available classification schemes are [documented here](https://pysal.org/mapclassify/api.html)."
   ]
  },
  {
   "cell_type": "markdown",
   "id": "b4402146",
   "metadata": {},
   "source": [
    "## Base maps\n",
    "You can get static web basemaps using [`contextily`](https://contextily.readthedocs.io/en/latest/index.html). Here's a simple example."
   ]
  },
  {
   "cell_type": "code",
   "execution_count": null,
   "id": "f5b80cd5",
   "metadata": {},
   "outputs": [],
   "source": [
    "import contextily as cx\n",
    "\n",
    "ax = welly.plot(fc = \"None\", ec = \"k\", lw = 0.5, figsize = (8, 8))\n",
    "ax.set_axis_off()\n",
    "\n",
    "cx.add_basemap(ax, crs = welly.crs, source=cx.providers.CartoDB.Voyager)"
   ]
  },
  {
   "cell_type": "markdown",
   "id": "73b815ec",
   "metadata": {},
   "source": [
    "## Web maps\n",
    "There are many situations where small(ish) static maps are not so useful because you need to inspect particular parts of the map up close. Web maps are one way to resolve this problem. I'm not going to get into this in any detail, but the `geopandas` `GeoDataFrame.explore()` method provides a simple way to quickly make a web map. It's important to realise that this may not scale well to datasets with many thousands of shapes. Alternative modules that better handle large datasets are [`lonboard`](https://github.com/developmentseed/lonboard) and [`pydeck`](https://deckgl.readthedocs.io/en/latest/) but these are really out of scope for these sessions. \n",
    "\n",
    "Of course... there is always the option to inspect data in a GIS."
   ]
  },
  {
   "cell_type": "code",
   "execution_count": null,
   "id": "584cd1e6",
   "metadata": {},
   "outputs": [],
   "source": [
    "welly.explore(tiles = \"CartoDB.Positron\", column = \"CURPop\", cmap = \"Reds\",\n",
    "              scheme = \"equalinterval\", k = 5,\n",
    "              tooltip = \"name\", popup = [\"CURPop\", \"pop_density\"], \n",
    "              style_kwds = {\"weight\": 0.5, \"color\": \"white\"})"
   ]
  }
 ],
 "metadata": {
  "kernelspec": {
   "display_name": "intro-python-2",
   "language": "python",
   "name": "python3"
  },
  "language_info": {
   "codemirror_mode": {
    "name": "ipython",
    "version": 3
   },
   "file_extension": ".py",
   "mimetype": "text/x-python",
   "name": "python",
   "nbconvert_exporter": "python",
   "pygments_lexer": "ipython3",
   "version": "3.11.6"
  }
 },
 "nbformat": 4,
 "nbformat_minor": 5
}
