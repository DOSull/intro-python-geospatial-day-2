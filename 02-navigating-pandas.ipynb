{
 "cells": [
  {
   "cell_type": "code",
   "execution_count": null,
   "id": "c24b9e7c",
   "metadata": {},
   "outputs": [],
   "source": [
    "import pandas as pd"
   ]
  },
  {
   "cell_type": "markdown",
   "id": "3e765af3",
   "metadata": {},
   "source": [
    "# Navigating `pandas`\n",
    "Pandas is built on the `Series` and `DataFrame` types, so the first task is to get familiar with these."
   ]
  },
  {
   "cell_type": "markdown",
   "id": "d2e495dd",
   "metadata": {},
   "source": [
    "## `Series`\n",
    "Loosely speaking a `Series` is something like an ordered Python dictionary. It's easiest to see what I mean by this by mucking about with a simple `Series`. To do that we'll make one."
   ]
  },
  {
   "cell_type": "code",
   "execution_count": null,
   "id": "e547d2dd",
   "metadata": {},
   "outputs": [],
   "source": [
    "series = pd.Series([100, 200, 400, 800])\n",
    "series"
   ]
  },
  {
   "cell_type": "markdown",
   "id": "2d5638e8",
   "metadata": {},
   "source": [
    "Importantly, we can't mix types in a `Series`. For example, if we include a string in the list we use to initialise `series` then it forces everything in the `Series` to have the `object` type:"
   ]
  },
  {
   "cell_type": "code",
   "execution_count": null,
   "id": "19a9c4e5",
   "metadata": {},
   "outputs": [],
   "source": [
    "series = pd.Series([100, 200, 400, \"abc\"])\n",
    "series"
   ]
  },
  {
   "cell_type": "markdown",
   "id": "921a5971",
   "metadata": {},
   "source": [
    "Making everything in a `Series` the same type is one aspect of how `pandas` makes computation more efficient. In addition to its values, a `Series` has an _index_, and it can also have a _name_, and its index can have a name. In effect it is like a small data table with just one column."
   ]
  },
  {
   "cell_type": "code",
   "execution_count": null,
   "id": "a45b5908",
   "metadata": {},
   "outputs": [],
   "source": [
    "pop2023 = pd.Series(\n",
    "    [1_402_000, 202_000, 380_000, 101_000],\n",
    "    index = [\"Auckland\", \"Wellington\", \"Christchurch\", \"Dunedin\"])\n",
    "pop2023.name = \"population_2023\"\n",
    "pop2023.index.name = \"city\"\n",
    "pop2023"
   ]
  },
  {
   "cell_type": "markdown",
   "id": "b36aa9ef",
   "metadata": {},
   "source": [
    "To access individual elements in a `Series` we should use values of its index, _not_ positional indexes."
   ]
  },
  {
   "cell_type": "code",
   "execution_count": null,
   "id": "9265f221",
   "metadata": {},
   "outputs": [],
   "source": [
    "pop2023[\"Wellington\"]"
   ]
  },
  {
   "cell_type": "markdown",
   "id": "45e3c5fd",
   "metadata": {},
   "source": [
    "This may seem confusing initially. The reason it matters is that a `Series` could have index values that are integers, and then it can be ambiguous what we mean when we use a position index."
   ]
  },
  {
   "cell_type": "code",
   "execution_count": null,
   "id": "cb4757d3",
   "metadata": {},
   "outputs": [],
   "source": [
    "confusing = pd.Series([1, 2, 3, 4], index = [10, 9, 8, 7])\n",
    "confusing"
   ]
  },
  {
   "cell_type": "code",
   "execution_count": null,
   "id": "090aa714",
   "metadata": {
    "tags": [
     "raises-exception"
    ]
   },
   "outputs": [],
   "source": [
    "confusing[0]"
   ]
  },
  {
   "cell_type": "markdown",
   "id": "70f83d85",
   "metadata": {},
   "source": [
    "\n",
    "If we try to use positional indexing we'll get a warning, meaning that it will work _for now_, but the proper way to access a value in a `Series` by its position is using its `iloc` property."
   ]
  },
  {
   "cell_type": "code",
   "execution_count": null,
   "id": "c02c13e6",
   "metadata": {},
   "outputs": [],
   "source": [
    "confusing.iloc[0]"
   ]
  },
  {
   "cell_type": "markdown",
   "id": "75c179f6",
   "metadata": {},
   "source": [
    "So... if you are intending to access items in a series by their position, use `.iloc[]`. Anyway, let's get back to the `pop_2023` example"
   ]
  },
  {
   "cell_type": "code",
   "execution_count": null,
   "id": "438b6a6c",
   "metadata": {},
   "outputs": [],
   "source": [
    "pop2023.iloc[1]"
   ]
  },
  {
   "cell_type": "markdown",
   "id": "eb6b2fcb",
   "metadata": {},
   "source": [
    "Let's make another `Series` (note that the indexes are different, and in a different order)."
   ]
  },
  {
   "cell_type": "code",
   "execution_count": null,
   "id": "940796b8",
   "metadata": {},
   "outputs": [],
   "source": [
    "pop2018 = pd.Series(\n",
    "    [202_000, 100_000, 161_000, 1_346_000], \n",
    "    index = [\"Wellington\", \"Dunedin\", \"Hamilton\", \"Auckland\"])\n",
    "pop2018.name = \"population_2018\"\n",
    "pop2018.index.name = \"city\"\n",
    "pop2018"
   ]
  },
  {
   "cell_type": "markdown",
   "id": "25980205",
   "metadata": {},
   "source": [
    "Now... what happens if we combine them in some way?"
   ]
  },
  {
   "cell_type": "code",
   "execution_count": null,
   "id": "13eb5d8e",
   "metadata": {},
   "outputs": [],
   "source": [
    "pop2023 - pop2018"
   ]
  },
  {
   "cell_type": "markdown",
   "id": "55c002a4",
   "metadata": {},
   "source": [
    "What's going on here? The `Series` objects use the `index` values to align the data and add corresponding elements, and where some element is missing (`Hamilton` is missing in the first `Series` and `Christchurch` in the second one) it arrives at a `NaN` (not a number, effectively a missing result).\n",
    "\n",
    "The missing results are annoying, but the more important thing here is that `Series` clearly aren't just lists a little bit dressed up! They're much more like single variable data tables."
   ]
  },
  {
   "cell_type": "markdown",
   "id": "79b5a746",
   "metadata": {},
   "source": [
    "## `DataFrame`\n",
    "A `DataFrame` is a collection of `Series`, that _share the same index_.\n",
    "\n",
    "We can combine a bunch of `Series` that share index values (even if not all index values exist in all `Series`) into a `DataFrame` using `concat`, like this:"
   ]
  },
  {
   "cell_type": "code",
   "execution_count": null,
   "id": "624e40c4",
   "metadata": {},
   "outputs": [],
   "source": [
    "pd.concat([pop2018, pop2023], axis = \"columns\")"
   ]
  },
  {
   "cell_type": "markdown",
   "id": "2c6593ef",
   "metadata": {},
   "source": [
    "That's handy if you happen to have data as `Series` already, although you will often be assembling data from a dictionary of lists, like this:"
   ]
  },
  {
   "cell_type": "code",
   "execution_count": null,
   "id": "3cee7cd0",
   "metadata": {},
   "outputs": [],
   "source": [
    "df = pd.DataFrame(\n",
    "    data = {\"pop2023\": [1_402_000, 380_000, 101_000, 175_000, 202_000],\n",
    "            \"pop2018\": [1_346_000, 358_000, 100_000, 161_000, 202_000]})\n",
    "df"
   ]
  },
  {
   "cell_type": "markdown",
   "id": "2d331cb0",
   "metadata": {},
   "source": [
    "By default the index is integers starting at 0. But we can set something more useful."
   ]
  },
  {
   "cell_type": "code",
   "execution_count": null,
   "id": "20209022",
   "metadata": {},
   "outputs": [],
   "source": [
    "df.index = ['Auckland', 'Christchurch', 'Dunedin', 'Hamilton', 'Wellington']\n",
    "df.index.name = \"city\"\n",
    "df"
   ]
  },
  {
   "cell_type": "code",
   "execution_count": null,
   "id": "7f69abcd",
   "metadata": {},
   "outputs": [],
   "source": [
    "# for convenience make a copy\n",
    "cities_df = df.copy()"
   ]
  },
  {
   "cell_type": "markdown",
   "id": "e1d901ef",
   "metadata": {},
   "source": [
    "It's important here to notice the difference between the index column and the data columns, which the notebook view helps us with by setting it on a different row than the column names. The index is not data, it's an index!\n",
    "\n",
    "A `DataFrame` has two dimensions, and we can extract columns, rows, or individual elements accordingly. Columns are extracted by name"
   ]
  },
  {
   "cell_type": "code",
   "execution_count": null,
   "id": "b1e45d7e",
   "metadata": {},
   "outputs": [],
   "source": [
    "df.pop2023"
   ]
  },
  {
   "cell_type": "markdown",
   "id": "67e0a1fc",
   "metadata": {},
   "source": [
    "And we can extract more than one column at a time by providing a list of the desired columns. The view returned will be reordered in the process."
   ]
  },
  {
   "cell_type": "code",
   "execution_count": null,
   "id": "351362b9",
   "metadata": {},
   "outputs": [],
   "source": [
    "df[[\"pop2018\", \"pop2023\"]]"
   ]
  },
  {
   "cell_type": "markdown",
   "id": "ac8305be",
   "metadata": {},
   "source": [
    "Rows are extracted using `loc` or `iloc` and returned as `Series`."
   ]
  },
  {
   "cell_type": "code",
   "execution_count": null,
   "id": "7d27f4f9",
   "metadata": {},
   "outputs": [],
   "source": [
    "df.loc[\"Wellington\"], df.iloc[4]"
   ]
  },
  {
   "cell_type": "markdown",
   "id": "e090443f",
   "metadata": {},
   "source": [
    "You can also request more than one row, and again, reorder them in the process. In this case you'll get a view on the data as a `DataFrame`."
   ]
  },
  {
   "cell_type": "code",
   "execution_count": null,
   "id": "f0f30b2c",
   "metadata": {},
   "outputs": [],
   "source": [
    "df.loc[[\"Wellington\", \"Auckland\", \"Hamilton\"]]"
   ]
  },
  {
   "cell_type": "markdown",
   "id": "79556bed",
   "metadata": {},
   "source": [
    "**IMPORTANT** most often when indexing into a `DataFrame` you are getting a view on the data, not a new `Series` or `DataFrame`. Any changes you make in the view will be applied to the 'source' data."
   ]
  },
  {
   "cell_type": "code",
   "execution_count": null,
   "id": "7e869e55",
   "metadata": {},
   "outputs": [],
   "source": [
    "df.loc[\"Auckland\"] = df.loc[\"Auckland\"] + 100_000\n",
    "df"
   ]
  },
  {
   "cell_type": "markdown",
   "id": "358d4629",
   "metadata": {},
   "source": [
    "This is not particularly unexpected, and might be what you want, in which case, all good!\n",
    "\n",
    "But if you want to work with the data in a row or column and perhaps in the process change it, _while leaving the source data intact_, then make a copy:"
   ]
  },
  {
   "cell_type": "code",
   "execution_count": null,
   "id": "5a81bc76",
   "metadata": {},
   "outputs": [],
   "source": [
    "# restore the original dataframe\n",
    "df = cities_df.copy()\n",
    "auckland_data = df.loc[\"Auckland\"].copy()\n",
    "auckland_data = auckland_data + 100_000\n",
    "auckland_data, df"
   ]
  },
  {
   "cell_type": "markdown",
   "id": "c50062f9",
   "metadata": {},
   "source": [
    "### `reindex`\n",
    "We can reorganise a `DataFrame` by reindexing. If you provide just one list it should be the rows. If you want to reorder columns, you supply a `columns` parameter to the `reindex()` method. Probably the easiest way to do it is to explicitly specify `index` and `column` lists."
   ]
  },
  {
   "cell_type": "code",
   "execution_count": null,
   "id": "471190e2",
   "metadata": {},
   "outputs": [],
   "source": [
    "new_row_order = [\"Wellington\", \"Auckland\", \"Christchurch\", \"Hamilton\", \"Dunedin\"]\n",
    "new_col_order = [\"pop2018\", \"pop2023\"]\n",
    "df.reindex(index = new_row_order, columns = new_col_order)"
   ]
  },
  {
   "cell_type": "markdown",
   "id": "6e3cf656",
   "metadata": {},
   "source": [
    "### `drop()`"
   ]
  },
  {
   "cell_type": "markdown",
   "id": "af6e2b6e",
   "metadata": {},
   "source": [
    "The `drop()` method is similar to `reindex`, but drops any named rows or columns."
   ]
  },
  {
   "cell_type": "code",
   "execution_count": null,
   "id": "0bc480b7",
   "metadata": {},
   "outputs": [],
   "source": [
    "df.drop(index = [\"Auckland\", \"Christchurch\"], columns = [\"pop2018\"])"
   ]
  },
  {
   "cell_type": "markdown",
   "id": "351808e3",
   "metadata": {},
   "source": [
    "### `loc` and `iloc`\n",
    "There are more ways to index data in `Series` and `DataFrames` than there really should be! I think it's good practice to stick to a limited set, as follows. Use `.loc` to index by names (or rows or columns):"
   ]
  },
  {
   "cell_type": "code",
   "execution_count": null,
   "id": "decaed2b",
   "metadata": {},
   "outputs": [],
   "source": [
    "df.loc[[\"Auckland\", \"Wellington\"], [\"pop2018\"]]"
   ]
  },
  {
   "cell_type": "markdown",
   "id": "5d909f0c",
   "metadata": {},
   "source": [
    "And use `iloc` to index by position"
   ]
  },
  {
   "cell_type": "code",
   "execution_count": null,
   "id": "ac681e33",
   "metadata": {},
   "outputs": [],
   "source": [
    "df.iloc[:3, 1:]"
   ]
  },
  {
   "cell_type": "markdown",
   "id": "1c376f48",
   "metadata": {},
   "source": [
    "Notice that `iloc` allows you to use slice notation. You can use slicing with names but... and this is confusing, its inclusive, unlike integer slicing"
   ]
  },
  {
   "cell_type": "code",
   "execution_count": null,
   "id": "0a9fb474",
   "metadata": {},
   "outputs": [],
   "source": [
    "df.loc[\"Auckland\":\"Hamilton\", :\"pop2023\"]"
   ]
  },
  {
   "cell_type": "markdown",
   "id": "121fd437",
   "metadata": {},
   "source": [
    "Keep in mind that `.loc` and `.iloc` are _properties_ of the `DataFrame` not methods. That means they are followed by _square brackets_ `[]` not parentheses (as they would be if they were methods).\n",
    "\n",
    "### Boolean selections\n",
    "An important special case (that is widely used) is selection using a sequence of boolean values."
   ]
  },
  {
   "cell_type": "code",
   "execution_count": null,
   "id": "fff333c5",
   "metadata": {},
   "outputs": [],
   "source": [
    "df.loc[df.pop2018 > 200000]"
   ]
  },
  {
   "cell_type": "markdown",
   "id": "5e82974e",
   "metadata": {},
   "source": [
    "What's happening here? Well, `df.pop2018 > 200_000` gives us an array of boolean values:"
   ]
  },
  {
   "cell_type": "code",
   "execution_count": null,
   "id": "260cb65e",
   "metadata": {},
   "outputs": [],
   "source": [
    "df.pop2018 > 200_000"
   ]
  },
  {
   "cell_type": "markdown",
   "id": "fdb0729c",
   "metadata": {},
   "source": [
    "And when we use that as the index it selects those the rows where the condition is `True`. We can even use this to see values selectively for the whole `DataFrame` at once."
   ]
  },
  {
   "cell_type": "code",
   "execution_count": null,
   "id": "c049af43",
   "metadata": {},
   "outputs": [],
   "source": [
    "df < 360_000"
   ]
  },
  {
   "cell_type": "code",
   "execution_count": null,
   "id": "9ef7b5e8",
   "metadata": {},
   "outputs": [],
   "source": [
    "df[df < 360_000] = 0\n",
    "df"
   ]
  },
  {
   "cell_type": "code",
   "execution_count": null,
   "id": "0b5cf1d9",
   "metadata": {},
   "outputs": [],
   "source": [
    "df = cities_df.copy()"
   ]
  },
  {
   "cell_type": "markdown",
   "id": "1d592090",
   "metadata": {},
   "source": [
    "That's all a lot to take in, so we'll take a break here!"
   ]
  }
 ],
 "metadata": {
  "kernelspec": {
   "display_name": "intro-python",
   "language": "python",
   "name": "python3"
  },
  "language_info": {
   "codemirror_mode": {
    "name": "ipython",
    "version": 3
   },
   "file_extension": ".py",
   "mimetype": "text/x-python",
   "name": "python",
   "nbconvert_exporter": "python",
   "pygments_lexer": "ipython3",
   "version": "3.12.9"
  }
 },
 "nbformat": 4,
 "nbformat_minor": 5
}
