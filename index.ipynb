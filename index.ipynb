{
 "cells": [
  {
   "cell_type": "markdown",
   "id": "7638dc34",
   "metadata": {},
   "source": [
    "# Python training for GIS analysts\n",
    "## Day 2: Data tables and automation\n",
    "### Session 1 Introducing `pandas`\n",
    "| Time   | Topic |\n",
    "| ------:|:----- |\n",
    "| 09:00  | [**Overview**](01-meet-the-pandas.ipynb) |\n",
    "| 09:15  | [**Getting going in `pandas`**](02-navigating-pandas.ipynb) |\n",
    "| &nbsp; | `Series` and `DataFrame`  |\n",
    "| &nbsp; | `.loc`, `.iloc`  |\n",
    "| &nbsp; | Slicing in `pandas` |\n",
    "| 10:00  | [**Cleaning data**](03-cleaning-data.ipynb) |\n",
    "| &nbsp; | Fixing incorrect data |\n",
    "| 10:30  | _BREAK_ |\n",
    "| 10:45  | [**Applying functions**](04-applying-functions.ipynb) |\n",
    "| &nbsp; | Never iterate if you can help it |\n",
    "| 11:30  | _LUNCH_ |\n",
    "\n",
    "### Session 2 More `pandas` AND `geopandas`\n",
    "| Time   | Topic |\n",
    "| ------:|:----- |\n",
    "| 12:30  | **Table operations** |\n",
    "| &nbsp; | [left, right, inner, and outer joins](05-table-based-operations.ipynb) |\n",
    "| &nbsp; | [The `.groupby` operator](06-groupby-operations.ipynb) |\n",
    "|  1:00  | [**`geopandas = pandas + geometry`**](07-introducing-geopandas.ipynb) |\n",
    "| &nbsp; | `GeoDataFrame` |\n",
    "| &nbsp; | `GeoSeries` |\n",
    "|  1:30  | [**Simple maps with `geopandas`**](08-simple-maps-in-geopandas.ipynb) |\n",
    "| &nbsp; | Plotting data |\n",
    "| &nbsp; | Thematic mapping |\n",
    "|  2:00  | [**GIS operations**](09-doing-gis-in-geopandas.ipynb)  |\n",
    "| &nbsp; | [Unary operations: e.g., `buffer`](10-unary-gis-operations.ipynb) |\n",
    "| &nbsp; | [Binary operations: overlay and join](11-binary-gis-operations.ipynb) |\n",
    "|  2:30  | _BREAK_ |\n",
    "\n",
    "### Session 3 Using `pandas` and `geopandas` to get stuff done!\n",
    "| Time   | Topic |\n",
    "| ------:|:----- |\n",
    "|  3:00  | **Making notebooks into scripts** |\n",
    "| &nbsp; | [Making a script and command line options](12-making-a-script.ipynb) |\n",
    "|  3:30  | **More examples**, such as |\n",
    "| &nbsp; | [Small multiple maps](13-small-multiple-maps.ipynb) |\n",
    "| &nbsp; | [Counting points in polygons](14-counting-points-in-polygons.ipynb) |\n",
    "| &nbsp; | [Weighted overlay](15-weighted-overlay.ipynb) |\n",
    "| &nbsp; | _Any other topics as suggested by the group_ |\n",
    "| 5:00   | _ENDS_ |\n"
   ]
  }
 ],
 "metadata": {
  "language_info": {
   "name": "python"
  }
 },
 "nbformat": 4,
 "nbformat_minor": 5
}
