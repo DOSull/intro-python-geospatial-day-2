{
 "cells": [
  {
   "cell_type": "code",
   "execution_count": null,
   "id": "c24b9e7c",
   "metadata": {},
   "outputs": [],
   "source": [
    "%matplotlib inline\n",
    "import pandas as pd\n",
    "import geopandas as gpd\n",
    "import matplotlib.pyplot as plt"
   ]
  },
  {
   "cell_type": "code",
   "execution_count": null,
   "id": "18561b02",
   "metadata": {},
   "outputs": [],
   "source": [
    "gpd.read_file(\"/Users/david/Downloads/GTFS_routes_nztm.geojson\").to_file(\"metlink-routes.gpkg\")"
   ]
  },
  {
   "cell_type": "markdown",
   "id": "64e00722",
   "metadata": {},
   "source": [
    "# Doing GIS in `geopandas`\n",
    "`geopandas` brings fundamental GIS operations to the `pandas` environment, allowing you to construct data pipelines in code that can automate routing geospatial data processing workflows. For the purposes of the quick survey of methods in this session I'll split operations into _unary_ operations on a single datasets and _binary_ operations between two datasets. Typical unary operations include buffering and finding representative points. You can think of these as most often being useful in transforming geospatial data from one form to another. Binary operations allow you to join spatial datasets together based on spatial relations between them and include overlay, clipping, and filtering.\n",
    "\n",
    "## Data\n",
    "For these notebooks, I grabbed data from [this web page](https://opendata.gw.govt.nz/maps/GWRC::metlink-gtfs/about) relating to 'stops' and 'routes' in Wellington, along with our old friend the SA2 polygons."
   ]
  },
  {
   "cell_type": "code",
   "execution_count": null,
   "id": "5d7f5a4b",
   "metadata": {},
   "outputs": [],
   "source": [
    "stops = gpd.read_file(\"metlink-stops.gpkg\").to_crs(2193)\n",
    "routes = gpd.read_file(\"metlink-routes.gpkg\").to_crs(2193)\n",
    "sa2 = gpd.read_file(\"sa2-wellington.gpkg\")"
   ]
  },
  {
   "cell_type": "markdown",
   "id": "8c8f4c89",
   "metadata": {},
   "source": [
    "We can see what we are dealing with using a web map."
   ]
  },
  {
   "cell_type": "code",
   "execution_count": null,
   "id": "3974651c",
   "metadata": {},
   "outputs": [],
   "source": [
    "m = sa2.explore()\n",
    "routes.explore(m = m)\n",
    "stops.explore(m = m)"
   ]
  },
  {
   "cell_type": "markdown",
   "id": "ea2dbc2a",
   "metadata": {},
   "source": [
    "We'll look at what's in the datasets a bit more closely a bit later.\n",
    "\n",
    "## Unary GIS operations\n"
   ]
  },
  {
   "cell_type": "code",
   "execution_count": null,
   "id": "8b2186aa",
   "metadata": {},
   "outputs": [],
   "source": [
    "m = routes[(routes.geometry.intersects(sa2.union_all())) & \n",
    "           (routes.route_type == \"3\")].explore()\n",
    "m\n",
    "# stops.explore(m = m)"
   ]
  }
 ],
 "metadata": {
  "kernelspec": {
   "display_name": "intro-python-2",
   "language": "python",
   "name": "python3"
  },
  "language_info": {
   "codemirror_mode": {
    "name": "ipython",
    "version": 3
   },
   "file_extension": ".py",
   "mimetype": "text/x-python",
   "name": "python",
   "nbconvert_exporter": "python",
   "pygments_lexer": "ipython3",
   "version": "3.11.6"
  }
 },
 "nbformat": 4,
 "nbformat_minor": 5
}
